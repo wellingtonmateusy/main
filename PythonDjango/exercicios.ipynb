{
  "cells": [
    {
      "cell_type": "markdown",
      "metadata": {
        "id": "oLZm4Yl7ohvU"
      },
      "source": [
        "1. Leia um número fornecido pelo usuário. Se esse número for positivo, calcule a raiz\n",
        "quadrada do número. Se o número for negativo, mostre uma mensagem dizendo que o\n",
        "número é inválido.\n",
        "\n",
        "2. Leia um número real. Se o número for positivo imprima a raiz quadrada. Do contrário,\n",
        "imprima o número ao quadrado.\n",
        "\n",
        "3. Escreva um programa que leia um número inteiro maior do que zero e devolva, na\n",
        "tela, a soma de todos os seus algarismos. Por exemplo, ao número 2493 corresponderá\n",
        "o valor 18 (2 + 4 + 9 + 3). Se o número lido não for maior do que zero, o programa\n",
        "terminará com a mensagem “Número inválido”.\n",
        "\n",
        "4. A nota final de um estudante e calculada a partir de três notas atribuídas entre o intervalo de 0 até 10, respectivamente, a um trabalho de laboratório, a uma avaliação semestral e a um exame final. A media das três notas mencionadas anteriormente obedece aos seguintes pesos:\n",
        "    Trabalho de Laboratorio: 2.\n",
        "    Avaliação Semestral: 3.\n",
        "    Exame Final: 5.\n",
        "De acordo com o resultado, mostre na tela se o aluno esta reprovado (média entre 0 e 2,9), de\n",
        "recuperação (entre 3 e 4,9) ou se foi aprovado. Faça todas as verificações necessárias."
      ]
    },
    {
      "cell_type": "markdown",
      "metadata": {
        "id": "FT7w0Rdoo-mC"
      },
      "source": [
        "1"
      ]
    },
    {
      "cell_type": "code",
      "execution_count": null,
      "metadata": {
        "id": "zCuEbtzqornJ"
      },
      "outputs": [],
      "source": [
        "\n",
        "num = float(input(\"Digite um número: \"))\n",
        "\n",
        "if(num <= 0):\n",
        "  print(\"Número inválido\")\n",
        "else:\n",
        "  raiz = num ** 0.5\n",
        "  print(\"Está é a raiz quadrada do número:\", raiz)"
      ]
    },
    {
      "cell_type": "markdown",
      "metadata": {
        "id": "LZm9SN5QpAVK"
      },
      "source": [
        "2"
      ]
    },
    {
      "cell_type": "code",
      "execution_count": null,
      "metadata": {
        "colab": {
          "base_uri": "https://localhost:8080/"
        },
        "id": "7tlFzirHo7ii",
        "outputId": "8c3f1da6-738a-42b9-ac82-fe0168d6d4e1"
      },
      "outputs": [],
      "source": [
        "num = float(input(\"Digite um número: \"))\n",
        "\n",
        "if(num == 0):\n",
        "  print(\"Número inválido\")\n",
        "\n",
        "elif(num <= 0):\n",
        "  raiz = num ** 0.5\n",
        "  print(\"Está é a raiz quadrada do número:\", raiz)\n",
        "\n",
        "else:\n",
        "  quadrado = num * num\n",
        "  print(\"Número ao quadrado\", quadrado)"
      ]
    },
    {
      "cell_type": "markdown",
      "metadata": {
        "id": "4P4xHKbvpF2a"
      },
      "source": [
        "3"
      ]
    },
    {
      "cell_type": "code",
      "execution_count": null,
      "metadata": {
        "colab": {
          "base_uri": "https://localhost:8080/"
        },
        "id": "remnqFVrpG16",
        "outputId": "ba557a0e-c10d-471d-f5b0-2b5223cbf133"
      },
      "outputs": [],
      "source": [
        "def soma_algarismos(num):\n",
        "    if num > 0:\n",
        "      return sum(int(digito) for digito in str(num))\n",
        "\n",
        "    else:\n",
        "      return \"Número inválido\"\n",
        "\n",
        "num = int(input(\"Digite um número inteiro maior do que zero: \"))\n",
        "print(\"Soma dos algarismos é:\", soma_algarismos(num))"
      ]
    },
    {
      "cell_type": "markdown",
      "metadata": {
        "id": "Sic1s1N7pIRa"
      },
      "source": [
        "4"
      ]
    },
    {
      "cell_type": "code",
      "execution_count": null,
      "metadata": {
        "id": "8QJnyRatpI7a"
      },
      "outputs": [],
      "source": [
        "def calcula_resultado(nota_trabalho, nota_avaliacao, nota_exame):\n",
        "      media = (nota_trabalho * 2 + nota_avaliacao * 3 + nota_exame * 5) / 10\n",
        "\n",
        "      if media >= 0 and media <= 2.9:\n",
        "          return \"O aluno está reprovado.\"\n",
        "      elif media >= 3 and media <= 4.9:\n",
        "          return \"O aluno está de recuperação.\"\n",
        "      else:\n",
        "          return \"O aluno foi aprovado.\"\n",
        "\n",
        "while True:\n",
        "  def validar(nota):\n",
        "    if(nota < 0 or nota > 10):\n",
        "      print(\"Erro: As notas devem estar no intervalo de 0 a 10.\")\n",
        "      return False\n",
        "\n",
        "  nota_trabalho = float(input(\"Digite a nota do trabalho: \"))\n",
        "  if validar(nota_trabalho) == False:\n",
        "    break\n",
        "  nota_avaliacao = float(input(\"Digite a nota do avaliação: \"))\n",
        "  if validar(nota_avaliacao) == False:\n",
        "    break\n",
        "  nota_exame = float(input(\"Digite a nota do exame: \"))\n",
        "  if validar(nota_exame) == False:\n",
        "    break\n",
        "\n",
        "  print(calcula_resultado(nota_trabalho, nota_avaliacao, nota_exame))\n",
        "  break"
      ]
    },
    {
      "cell_type": "markdown",
      "metadata": {
        "id": "QugCRO4ocFGH"
      },
      "source": [
        "1. Ler uma sequencia de números inteiros e determinar se eles são pares ou não. Deverá ser informado o numero de dados lidos e número de valores pares. O processo termina quando for digitado o numero 1000.\n",
        "\n",
        "2. Faça um programa que receba dois números.\n",
        "    Calcule e mostre:\n",
        "    • a soma dos números pares desse intervalo de números, incluindo os números digitados;\n",
        "    • a multiplicação dos números ímpares desse intervalo, incluindo os digitados."
      ]
    },
    {
      "cell_type": "markdown",
      "metadata": {
        "id": "51Hfo_S5cHcG"
      },
      "source": [
        "1"
      ]
    },
    {
      "cell_type": "code",
      "execution_count": null,
      "metadata": {
        "id": "DDCLET_fgull"
      },
      "outputs": [],
      "source": [
        "from IPython.core.display import clear_output\n",
        "numero = 0\n",
        "total = 0\n",
        "pares = 0\n",
        "\n",
        "while numero != 1000:\n",
        "    total += 1\n",
        "    if numero % 2 == 0:\n",
        "        pares += 1\n",
        "    numero = int(input(\"Digite um número: \"))\n",
        "\n",
        "    clear_output()\n",
        "\n",
        "print(\"Foram digitados\", total, \"números.\")\n",
        "print(\"Desses números,\", pares, \"são pares.\")"
      ]
    },
    {
      "cell_type": "markdown",
      "metadata": {
        "id": "f9IZnTkkhOLz"
      },
      "source": [
        "2"
      ]
    },
    {
      "cell_type": "code",
      "execution_count": null,
      "metadata": {
        "id": "eChzbf5VhPeV"
      },
      "outputs": [],
      "source": [
        "while True:\n",
        "  num1 = int(input(\"Digite o primeiro número: \"))\n",
        "  num2 = int(input(\"Digite o segundo número: \"))\n",
        "\n",
        "  soma_pares = 0\n",
        "  mult_impares = 1\n",
        "  if(num1 > num2):\n",
        "    clear_output()\n",
        "    print(\"O 1º número precisa ser maior que o 2º!\")\n",
        "  else:\n",
        "    for num in range(num1, num2 + 1):\n",
        "        if num % 2 == 0:\n",
        "            soma_pares += num\n",
        "        else:\n",
        "            mult_impares *= num\n",
        "    break\n",
        "\n",
        "print(\"A soma dos números pares no intervalo é:\", soma_pares)\n",
        "print(\"A multiplicação dos números ímpares no intervalo é:\", mult_impares)"
      ]
    },
    {
      "cell_type": "markdown",
      "metadata": {
        "id": "xGaJAh70gK7p"
      },
      "source": [
        "1. Escreva um programa que receba uma sequência de nomes de frutas e imprima a lista sem os nomes repetidos."
      ]
    },
    {
      "cell_type": "markdown",
      "metadata": {
        "id": "f8toYlrogXT4"
      },
      "source": [
        "1"
      ]
    },
    {
      "cell_type": "code",
      "execution_count": null,
      "metadata": {
        "id": "afD1hjUkqv2q"
      },
      "outputs": [],
      "source": [
        "nomes_frutas = {'banana', 'banana', 'manga', 'manga', 'uva', 'laranja', 'laranja', 'maça'}\n",
        "\n",
        "lista_frutas = list(nomes_frutas)\n",
        "print(lista_frutas)"
      ]
    },
    {
      "cell_type": "markdown",
      "metadata": {
        "id": "m6VoR1KVumOK"
      },
      "source": [
        "2. Escreva um programa que leia duas listas com nomes de planetas conhecidos até o momento:\n",
        "    • Listar os nome de todos os planetas conhecidos.\n",
        "    • Listar os nomes dos planetas do sistema solar.\n",
        "    • Listar planetas fora do sistema solar."
      ]
    },
    {
      "cell_type": "markdown",
      "metadata": {
        "id": "XolvCjhkurLK"
      },
      "source": [
        "2"
      ]
    },
    {
      "cell_type": "code",
      "execution_count": null,
      "metadata": {
        "id": "v5Y_NVLSusDi"
      },
      "outputs": [],
      "source": [
        "planetas_conhecido = {\"KELT-9b\", \"55 Cancri e\", \"TOI-2109b\", \"TOI-1518b\", \"WASP-103b\", \"KELT-16b\", \"WASP-12b\", \"Mercúrio\", \"Vênus\", \"Terra\", \"Marte\", \"Júpiter\", \"Saturno\", \"Urano\", \"Netuno\"}\n",
        "planetas_sistema_solar = {\"Mercúrio\", \"Vênus\", \"Terra\", \"Marte\", \"Júpiter\", \"Saturno\", \"Urano\", \"Netuno\"}\n",
        "\n",
        "planetas_fora_sistema_solar = planetas_conhecido - planetas_sistema_solar\n",
        "print(\"Planetas Conhecidos:\")\n",
        "print(*planetas_conhecido, sep = \", \")\n",
        "print(\"\\nPlanetas do sistema solar:\")\n",
        "print(*planetas_sistema_solar, sep = \", \")\n",
        "print(\"\\nPlanetas fora do sistema solar:\")\n",
        "print(*planetas_fora_sistema_solar, sep = \", \")"
      ]
    },
    {
      "cell_type": "markdown",
      "metadata": {
        "id": "x9JddPqExH01"
      },
      "source": [
        "1. Crie um programa que armazene informações sobre um livro em um 'Dict'. A estrutura deve conter:\n",
        "    a. Título do livro;\n",
        "    b. Autor do Livro;\n",
        "    c. Ano de publicação.\n",
        "2. Desenvolva um programa que simule um catálogo de filmes, onde cada filme é representado por um 'Dict', contendo:\n",
        "  a. Título do filme;\n",
        "  b. Diretor do filme;\n",
        "  c. Ano de lançamento;\n",
        "  d. Ator principal;\n",
        "  e. Gênero do filme;\n",
        "  f. Tempo de duração.\n",
        "Utillize uma estrutura de 'List' para armazenar quantos filmes forem necessários.\n",
        "As informações devem ser informadas pelo usuário do sistema."
      ]
    },
    {
      "cell_type": "markdown",
      "metadata": {
        "id": "hhsSJyLZxLPd"
      },
      "source": [
        "1"
      ]
    },
    {
      "cell_type": "code",
      "execution_count": null,
      "metadata": {
        "colab": {
          "base_uri": "https://localhost:8080/"
        },
        "id": "n1h3wGWtxIuV",
        "outputId": "2aa3a402-38cb-4650-97b0-d67ec82424bf"
      },
      "outputs": [],
      "source": [
        "#1\n",
        "\n",
        "livro = {\n",
        "    'ISBN-10': '6589902011',\n",
        "    'ISBN-13': '978-6589902010',\n",
        "    'Título do livro': 'Vivendo como um guerreiro',\n",
        "    'Autores do Livro': 'Whindersson Nunes e Gabriel Chalita',\n",
        "    'Data da publicação': '6 dezembro 2021',\n",
        "    'N° Edição': '1ª',\n",
        "    'Editora': 'Editora Serena'\n",
        "}\n",
        "\n",
        "print(\"ISBN-10:\",livro['ISBN-10'] + \"\\n\" + \"ISBN-13:\",livro['ISBN-13'] + \"\\n\"\n",
        "      + \"Título do livro:\",livro['Título do livro'] + \"\\n\" + \"Autores do Livro:\",livro['Autores do Livro']\n",
        "      + \"\\n\"+ \"Data da publicação:\",livro['Data da publicação'] + \"\\n\" + \"N° Edição:\",livro['N° Edição'] + \"\\n\" + \"Editora:\",livro['Editora'])"
      ]
    },
    {
      "cell_type": "markdown",
      "metadata": {
        "id": "F29dCbBuEXfH"
      },
      "source": [
        "2"
      ]
    },
    {
      "cell_type": "code",
      "execution_count": null,
      "metadata": {
        "id": "hbupU2_ybOPR"
      },
      "outputs": [],
      "source": [
        "#2\n",
        "\n",
        "from IPython.core.display import clear_output\n",
        "\n",
        "cont = 0\n",
        "\n",
        "catalogo_filmes = []\n",
        "\n",
        "while True:\n",
        "    titulo_filme = input(\"\\nTítulo do filme: \")\n",
        "    diretor_filme = input(\"Diretor do filme: \")\n",
        "    ano_lancamento = int(input(\"Ano de lançamento: \"))\n",
        "    ator_principal = input(\"Ator principal: \")\n",
        "    genero_filme = input(\"Gênero do filme: \")\n",
        "    tempo_duracao = int(input(\"Tempo de duração (em minutos): \"))\n",
        "    clear_output()\n",
        "\n",
        "    catalogo_filmes.append({\n",
        "        \"Título\": titulo_filme,\n",
        "        \"Diretor\": diretor_filme,\n",
        "        \"Ano de lançamento\": ano_lancamento,\n",
        "        \"Ator principal\": ator_principal,\n",
        "        \"Gênero\": genero_filme,\n",
        "        \"Tempo de duração\": tempo_duracao\n",
        "    })\n",
        "\n",
        "    continuar = input(\"Deseja adicionar mais filmes? (s/n): \").lower() in [\"sim\", \"ss\", \"s\"]\n",
        "    cont += 1\n",
        "    if continuar != True:\n",
        "        break\n",
        "\n",
        "\n",
        "for filmes in catalogo_filmes:\n",
        "    print(f\"\\n🎞️🎞️ Filme {cont} 🎞️🎞️\")\n",
        "    print(\"\\nTítulo:\", filmes[\"Título\"])\n",
        "    print(\"Diretor:\", filmes[\"Diretor\"])\n",
        "    print(\"Ano de lançamento:\", filmes[\"Ano de lançamento\"])\n",
        "    print(\"Ator principal:\", filmes[\"Ator principal\"])\n",
        "    print(\"Gênero:\", filmes[\"Gênero\"])\n",
        "    print(\"Tempo de duração:\", filmes[\"Tempo de duração\"], \"minutos\\n\")\n",
        "    print(\"🎞️\" * 10)"
      ]
    },
    {
      "cell_type": "markdown",
      "metadata": {
        "id": "yhSDoRdd-8nL"
      },
      "source": [
        "As tarifas de certo parque de estacionamento são as seguintes:\n",
        "• 1ª e 2ª hora - R$ 10,00 cada\n",
        "• 3ª e 4ª hora - R$ 11,00 cada\n",
        "• 5ª hora e seguintes - R$ 5,00 cada.\n",
        "\n",
        "O número de horas a pagar é sempre inteiro e arredondado por excesso. Deste modo, quem estacionar durante 61 minutos pagara por duas horas, que é o mesmo que pagaria se tivesse permanecido 120 minutos.\n",
        "Os momentos de chegada ao parque e partida deste são apresentados na forma de pares de inteiros, representando horas e minutos."
      ]
    },
    {
      "cell_type": "markdown",
      "metadata": {
        "id": "5Bvl3680-_W0"
      },
      "source": [
        "1"
      ]
    },
    {
      "cell_type": "code",
      "execution_count": null,
      "metadata": {
        "id": "cKlO0Va_K4W-"
      },
      "outputs": [],
      "source": [
        "#1\n",
        "\n",
        "hora_entrada = int(input(\"Hora de entrada: \"))\n",
        "minutos_entrada = int(input(\"Minuto de entrada: \"))\n",
        "hora_saida = int(input(\"Hora de saída: \"))\n",
        "minutos_saida = int(input(\"Minuto de saida: \"))\n",
        "\n",
        "minutos_entrada = minutos_entrada / 60\n",
        "minutos_saida = minutos_saida / 60\n",
        "\n",
        "hora_estacionada = (hora_saida + minutos_saida)  - (hora_entrada + minutos_entrada)\n",
        "\n",
        "if (hora_estacionada <= 1) | (hora_estacionada <= 2):\n",
        "  if (hora_estacionada < 1) | (hora_estacionada < 2):\n",
        "    resultado = 10\n",
        "  else:\n",
        "    resultado = hora_estacionada * 10\n",
        "  print(f\"Você terá que pagar R$ {resultado} por {hora_estacionada} horas estacionado\")\n",
        "\n",
        "elif (hora_estacionada <= 3) | (hora_estacionada <= 4):\n",
        "  resultado = hora_estacionada * 11\n",
        "  print(f\"Você terá que pagar R$ {resultado} por {hora_estacionada} horas estacionado\")\n",
        "else:\n",
        "  resultado = hora_estacionada * 5\n",
        "  print(f\"Você terá que pagar R$ {resultado} por {hora_estacionada} horas estacionado\")"
      ]
    },
    {
      "cell_type": "code",
      "execution_count": null,
      "metadata": {
        "id": "QRgeJK-22orQ"
      },
      "outputs": [],
      "source": [
        "#Professor\n",
        "\n",
        "print(\"Informe o tempo estacionado\\n\")\n",
        "\n",
        "entrada = int(input(\"Hora de entrada: \"))\n",
        "total = int(input(\"Hora de saída\"))\n",
        "\n"
      ]
    },
    {
      "cell_type": "markdown",
      "metadata": {},
      "source": [
        "1. Faça um programa que receba a altura e o sexo de uma pessoa e calcule e mostre seu peso ideal, utilizando as seguintes fórmulas (onde h corresponde à altura):\n",
        "\n",
        "· Homens: (72.7 * h) - 58\n",
        "· Mulheres: (62.1 * h) – 44.7 \n",
        "\n",
        "Utilize estrutura 'Try-Except-Finally' para tratar possíveis erros."
      ]
    },
    {
      "cell_type": "markdown",
      "metadata": {},
      "source": [
        "1"
      ]
    },
    {
      "cell_type": "code",
      "execution_count": null,
      "metadata": {},
      "outputs": [],
      "source": [
        "def calcular_peso_ideal(sexo, altura):\n",
        "    try:\n",
        "        altura = float(altura)\n",
        "        if (sexo == 'm'):\n",
        "            peso_ideal = (72.7 * altura) - 58\n",
        "        elif (sexo == 'f'):\n",
        "            peso_ideal = (62.1 * altura) - 44.7\n",
        "        else:\n",
        "            return print(\"Sexo inválido. Escolha 'M' para masculino ou 'F' para feminino.\")\n",
        "        return peso_ideal\n",
        "    except ValueError as ve:\n",
        "        print(f\"Erro: {ve}\")\n",
        "        return None\n",
        "    except Exception as e:\n",
        "        print(f\"Erro: {e}\")\n",
        "        return None\n",
        "\n",
        "sexo = input(\"Digite o sexo (M para masculino, F para feminino): \").casefold()\n",
        "altura = input(\"Digite a altura (em metros): \")\n",
        "\n",
        "resultado = calcular_peso_ideal(sexo, altura)\n",
        "\n",
        "if resultado is not None:\n",
        "    print(f\"O peso ideal é: {resultado:.2f} kg.\")\n",
        "    print(\"Execução do cálculo concluída.\")"
      ]
    },
    {
      "cell_type": "code",
      "execution_count": null,
      "metadata": {},
      "outputs": [],
      "source": [
        "# Profesor\n",
        "\n",
        "print('Calculadora do peso ideal:')\n",
        "\n",
        "try:\n",
        "    genero = input('Informe o gênero (M - F): ').upper()\n",
        "    h = float(input('Informe a altura (metros): '))\n",
        "    \n",
        "    if genero.startswith('M'):\n",
        "        AlturaxPeso = ((72.2 * h) -58)\n",
        "        print(f'O seu peso ideal eh: {AlturaxPeso}\\n')\n",
        "\n",
        "        #string.startswith(value, start, end)\n",
        "\n",
        "    elif genero.startswith('F'):\n",
        "        AlturaxPeso = ((62.1 * h) - 44.7)\n",
        "        print(f'O seu peso ideal eh: {AlturaxPeso}\\n')\n",
        "        \n",
        "    else:\n",
        "        print('Gênero informado inválido')\n",
        "    \n",
        "except TypeError as err:\n",
        "    print(f'Ocorreu o seguinte erro: {err}')\n",
        "\n",
        "finally:\n",
        "    print('Programa encerrado')"
      ]
    },
    {
      "cell_type": "markdown",
      "metadata": {},
      "source": [
        "Exercícios 'for-in':\n",
        "\n",
        "1. Utilize a função 'range()' para criar uma lista de números e imprima cada número seguido de sua raiz quadrada.\n",
        "\n",
        "2. Crie uma lista de palavras e utilize 'for' para imprimir cada palavra com sua inicial maiúscula."
      ]
    },
    {
      "cell_type": "code",
      "execution_count": null,
      "metadata": {},
      "outputs": [],
      "source": [
        "#1\n",
        "for numeros in range(0, 10):\n",
        "    numeros = int(input('Digite 10 números para saber a raiz quadrada de cada um deles: '))\n",
        "    raiz = numeros ** (1/2)\n",
        "    print(f'Número digitado: {numeros} sua raiz quadrada é {raiz}\\n')"
      ]
    },
    {
      "cell_type": "code",
      "execution_count": null,
      "metadata": {},
      "outputs": [],
      "source": [
        "#2\n",
        "for palavras in range(0, 10):\n",
        "    palavras = input('Digite palavras para sua primeira letra ficar maiúscula')\n",
        "    print(palavras.capitalize())"
      ]
    },
    {
      "cell_type": "markdown",
      "metadata": {},
      "source": [
        "Exercício - Função:\n",
        "Tema: Estruturas de Dados.\n",
        "    - Desenvolva um programa que leia um número inteiro qualquer e informe se este número é par ou ímpar e se é primo.\n",
        "\n",
        "Exercício 2 - Função:\n",
        "Escreva um programa completo que permita a qualquer aluno introduzir, pelo teclado,\n",
        "uma sequencia arbitrária de notas (válidas no intervalo de 0 a 10) e que mostre na tela, como resultado, a correspondente media aritmética. O número de notas com que o aluno pretenda efetuar o calculo não será fornecido ao programa, o qual terminará quando for introduzido um valor que não seja válido como nota."
      ]
    },
    {
      "cell_type": "code",
      "execution_count": null,
      "metadata": {},
      "outputs": [],
      "source": [
        "#1\n",
        "\n",
        "numero = 1\n",
        "\n",
        "try:\n",
        "    def receberNumero() -> int:\n",
        "        numero = int(input('Digite números:'))\n",
        "        if ((numero == 3) or (numero == 2)):\n",
        "            print(\"\\nÉ primo:\", numero)\n",
        "\n",
        "        elif((numero % 3 == 0) or (numero % 2 == 0)):\n",
        "            print(\"\\nNão é primo:\", numero)\n",
        "\n",
        "        else:\n",
        "            print(\"\\nÉ primo:\", numero)\n",
        "        return numero\n",
        "    print('_' * 35 + '\\nDigite 0 para Encerrar o programa\\n' + '_' * 35)\n",
        "\n",
        "    while(numero != 0):\n",
        "        numero = receberNumero()\n",
        "        if(int(numero) % 2 == 0):\n",
        "            print(f'É Par: {numero}')\n",
        "        elif(int(numero) % 2 != 0):\n",
        "            print(f'É Ímpar: {numero}')\n",
        "        else:\n",
        "            break\n",
        "    print('Programa Encerrado')\n",
        "except ValueError:\n",
        "    print('Você não digitou um número')"
      ]
    },
    {
      "cell_type": "code",
      "execution_count": null,
      "metadata": {},
      "outputs": [],
      "source": [
        "#2\n",
        "\n",
        "def calculadora_arbitraria():\n",
        "    total_nota = 0\n",
        "    total_cont = 0\n",
        "    while True:\n",
        "        try:\n",
        "            nota = float(input('Insira uma nota (0-10) ou qualquer outro número o programa encerrará: '))\n",
        "            if 0 <= nota <= 10:\n",
        "                total_nota += nota\n",
        "                total_cont += 1\n",
        "            else:\n",
        "                break\n",
        "            print(f'Nota {total_cont}: {nota}')\n",
        "        except ValueError:\n",
        "            print('Você não digitou um número')\n",
        "    if(total_cont > 1):\n",
        "        return total_nota / total_cont\n",
        "    else:\n",
        "        return \"Não podemos calcular a média arbitrária com menos de duas notas\"\n",
        "\n",
        "arbitraria = calculadora_arbitraria()\n",
        "print(f'Sua média arbitrária é: {arbitraria}')"
      ]
    },
    {
      "cell_type": "markdown",
      "metadata": {},
      "source": [
        "Exercício:\n",
        "\n",
        "1. Faça um programa para corrigir uma prova com 10 questões de múltipla escolha (a, b, c, d ou e), em uma turma com 3 alunos. Cada questao vale 1.0 ponto. Leia o gabarito, e para cada aluno leia sua matricula (numero inteiro) e suas respostas. \n",
        "Calcule e escreva: \n",
        "  a) Para cada aluno, escreva sua matrícula, suas respostas, e sua nota. \n",
        "  b) O percentual de aprovação, assumindo média 7.0.\n",
        "  c) O dados devem ser gravados em arquivo *.csv.\n",
        "  d) Enviar arquivo.csv + código."
      ]
    },
    {
      "cell_type": "code",
      "execution_count": 110,
      "metadata": {},
      "outputs": [],
      "source": [
        "gabarito = ['a','b']\n",
        "notas = []\n",
        "resposta = ['a','b']\n",
        "def calcular_nota() -> str:\n",
        "    if(resposta[0] == gabarito[0]):\n",
        "        notas =+ 1\n",
        "        if(resposta[1] == gabarito[1]):\n",
        "            notas =+ 1\n",
        "    elif(resposta[1] == gabarito[1]):\n",
        "        notas =+ 1\n",
        "    else:\n",
        "        notas = 0\n",
        "    return str(notas)\n",
        "\n",
        "with open(file='./Prova10.csv', mode='w', encoding='utf8') as arquivo:\n",
        "    linha = 'Matricula' + ' ' + 'Respostas' + ' ' + 'Notas' + '\\n'\n",
        "    arquivo.write(linha)\n",
        "    notas = calcular_nota()\n",
        "    for nota in notas:\n",
        "        linha = str(notas) + '\\n'\n",
        "        arquivo.write(linha)"
      ]
    }
  ],
  "metadata": {
    "colab": {
      "provenance": []
    },
    "kernelspec": {
      "display_name": "Python 3",
      "name": "python3"
    },
    "language_info": {
      "codemirror_mode": {
        "name": "ipython",
        "version": 3
      },
      "file_extension": ".py",
      "mimetype": "text/x-python",
      "name": "python",
      "nbconvert_exporter": "python",
      "pygments_lexer": "ipython3",
      "version": "3.12.0"
    }
  },
  "nbformat": 4,
  "nbformat_minor": 0
}
