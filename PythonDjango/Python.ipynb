{
  "nbformat": 4,
  "nbformat_minor": 0,
  "metadata": {
    "colab": {
      "provenance": []
    },
    "kernelspec": {
      "name": "python3",
      "display_name": "Python 3"
    },
    "language_info": {
      "name": "python"
    }
  },
  "cells": [
    {
      "cell_type": "markdown",
      "source": [
        "# **Aulas**"
      ],
      "metadata": {
        "id": "VyZKaFGbPis0"
      }
    },
    {
      "cell_type": "code",
      "execution_count": null,
      "metadata": {
        "id": "ElOrJOtXNhj-"
      },
      "outputs": [],
      "source": [
        "print(\"Hello World!!!\")"
      ]
    },
    {
      "cell_type": "markdown",
      "source": [
        "**Variáveis**"
      ],
      "metadata": {
        "id": "_fkOHjhEUfUD"
      }
    },
    {
      "cell_type": "code",
      "source": [
        "idade = 30\n",
        "print(idade)\n",
        "\n",
        "idade = 27.12\n",
        "print(idade)\n",
        "\n",
        "nome = \"andré\"\n",
        "print(nome)"
      ],
      "metadata": {
        "id": "Lo0tWng5Up5i"
      },
      "execution_count": null,
      "outputs": []
    },
    {
      "cell_type": "markdown",
      "source": [
        "**Tipos nativos**"
      ],
      "metadata": {
        "id": "HBN-jtWSVjZz"
      }
    },
    {
      "cell_type": "markdown",
      "source": [
        "**Tipos numéricos: inteiro(int) real(float):**"
      ],
      "metadata": {
        "id": "5FNQJCjwWZd6"
      }
    },
    {
      "cell_type": "code",
      "source": [
        "preco = 1000\n",
        "tipo_preco = type(preco)\n",
        "\n",
        "print(preco)\n",
        "print(tipo_preco)\n",
        "\n",
        "juros = 0.05\n",
        "tipo_juros = type(juros)\n",
        "\n",
        "print(juros)\n",
        "print(tipo_juros)\n"
      ],
      "metadata": {
        "id": "VCAlL8GnVIO7"
      },
      "execution_count": null,
      "outputs": []
    },
    {
      "cell_type": "markdown",
      "source": [
        "**Tipos de texto: string (str):**"
      ],
      "metadata": {
        "id": "GTow-Q31Wlla"
      }
    },
    {
      "cell_type": "code",
      "source": [
        "primeiro_nome = \"Fulano\"\n",
        "\n",
        "print(primeiro_nome)\n",
        "print(type(primeiro_nome))\n",
        "\n",
        "pais = 'Brasil'\n",
        "\n",
        "print(pais)\n",
        "print(type(pais))"
      ],
      "metadata": {
        "id": "BX3WPl3fWwIL"
      },
      "execution_count": null,
      "outputs": []
    },
    {
      "cell_type": "markdown",
      "source": [
        "**Tipos lógicos: booleanos(bool):**"
      ],
      "metadata": {
        "id": "h5RZbc6UYADr"
      }
    },
    {
      "cell_type": "code",
      "source": [
        "usuario_maior_de_idade = True\n",
        "\n",
        "print(usuario_maior_de_idade)\n",
        "print(type(usuario_maior_de_idade))"
      ],
      "metadata": {
        "id": "l1Px3a64YJAP"
      },
      "execution_count": null,
      "outputs": []
    },
    {
      "cell_type": "markdown",
      "source": [
        "**Tipo vazio (NoneType):**"
      ],
      "metadata": {
        "id": "yIpxjF2gZ2Di"
      }
    },
    {
      "cell_type": "code",
      "source": [
        "telefone_fixo = None\n",
        "\n",
        "print(telefone_fixo)\n",
        "print(type(telefone_fixo))"
      ],
      "metadata": {
        "id": "254cm5j-Z-v6"
      },
      "execution_count": null,
      "outputs": []
    },
    {
      "cell_type": "markdown",
      "source": [
        "Tipos"
      ],
      "metadata": {
        "id": "YvYili3Kkj_e"
      }
    },
    {
      "cell_type": "code",
      "source": [
        "print(type(10))\n",
        "print(type(10.1))\n",
        "print(type(1 + 2j))"
      ],
      "metadata": {
        "colab": {
          "base_uri": "https://localhost:8080/"
        },
        "id": "z_x1jhijkXTg",
        "outputId": "489cb268-41f2-474d-ee42-c0dc04597587"
      },
      "execution_count": null,
      "outputs": [
        {
          "output_type": "stream",
          "name": "stdout",
          "text": [
            "<class 'int'>\n",
            "<class 'float'>\n",
            "<class 'complex'>\n"
          ]
        }
      ]
    },
    {
      "cell_type": "markdown",
      "source": [
        "**Exemplos**"
      ],
      "metadata": {
        "id": "VQqwk_l5oX4C"
      }
    },
    {
      "cell_type": "code",
      "source": [
        "preco = 47\n",
        "quantidade = 0.250\n",
        "\n",
        "total_a_pagar = quantidade * preco\n",
        "print(total_a_pagar)"
      ],
      "metadata": {
        "id": "EzzTpd_Ym_jA"
      },
      "execution_count": null,
      "outputs": []
    },
    {
      "cell_type": "code",
      "source": [
        "a = 3\n",
        "b = 2\n",
        "\n",
        "c = a / b\n",
        "print(c)\n",
        "print(type(c))\n",
        "\n",
        "d = a // b\n",
        "print(d)\n",
        "print(type(d))"
      ],
      "metadata": {
        "id": "GK4dUab1nzA4"
      },
      "execution_count": null,
      "outputs": []
    },
    {
      "cell_type": "markdown",
      "source": [
        "**Coversão**"
      ],
      "metadata": {
        "id": "ENNDydZlorCo"
      }
    },
    {
      "cell_type": "markdown",
      "source": [
        "Podemos coverter os tipos numéricus entre si utilizando o método nativo int, float e complex:"
      ],
      "metadata": {
        "id": "hjQJXvXmpehI"
      }
    },
    {
      "cell_type": "code",
      "source": [
        "print(int(3.9))"
      ],
      "metadata": {
        "id": "OxTf-gfzotjf"
      },
      "execution_count": null,
      "outputs": []
    },
    {
      "cell_type": "code",
      "source": [
        "print(float(10))"
      ],
      "metadata": {
        "id": "iMZ_fh9Toxw_"
      },
      "execution_count": null,
      "outputs": []
    },
    {
      "cell_type": "code",
      "source": [
        "print(complex(1))"
      ],
      "metadata": {
        "id": "BZCnTtTyo23f"
      },
      "execution_count": null,
      "outputs": []
    },
    {
      "cell_type": "markdown",
      "source": [
        "**Revistando a motivação**"
      ],
      "metadata": {
        "id": "zWRZgfhPqDYh"
      }
    },
    {
      "cell_type": "markdown",
      "source": [
        "Ticket médio diário do dia 19/01."
      ],
      "metadata": {
        "id": "XNSlL8haqbun"
      }
    },
    {
      "cell_type": "code",
      "source": [
        "valorTotal_19 = 153.98\n",
        "qtdVendas_19 = 3\n",
        "tktMedio_19 = valorTotal_19 / qtdVendas_19\n",
        "print(tktMedio_19)"
      ],
      "metadata": {
        "id": "z5ObXr9fqJQX"
      },
      "execution_count": null,
      "outputs": []
    },
    {
      "cell_type": "markdown",
      "source": [
        "Ticket médio diário do dia 20/01."
      ],
      "metadata": {
        "id": "GTqeRHGTt12A"
      }
    },
    {
      "cell_type": "code",
      "source": [
        "valorTotal_20 = 337.01\n",
        "qtdVendas_20 = 7\n",
        "tktMedio_20 = valorTotal_20 / qtdVendas_20\n",
        "print(tktMedio_20)"
      ],
      "metadata": {
        "id": "IqaU6PvNt2Yv"
      },
      "execution_count": null,
      "outputs": []
    },
    {
      "cell_type": "markdown",
      "source": [
        "Ticket médio diário do dia 23/01."
      ],
      "metadata": {
        "id": "e9lQ6DTit7gX"
      }
    },
    {
      "cell_type": "code",
      "source": [
        "valorTotal_23 = 295.33\n",
        "qtdVendas_23 = 5\n",
        "tktMedio_23 = valorTotal_23 / qtdVendas_23\n",
        "print(tktMedio_23)"
      ],
      "metadata": {
        "id": "jCR4yhfbt5ev"
      },
      "execution_count": null,
      "outputs": []
    },
    {
      "cell_type": "markdown",
      "source": [
        "Ticket médio"
      ],
      "metadata": {
        "id": "-zo_PJKHuWEX"
      }
    },
    {
      "cell_type": "code",
      "source": [
        "tkt = (tktMedio_19 + tktMedio_20 + tktMedio_23) / 3\n",
        "print(tkt)"
      ],
      "metadata": {
        "id": "18QMVyveua41"
      },
      "execution_count": null,
      "outputs": []
    },
    {
      "cell_type": "markdown",
      "source": [
        "**Strings**"
      ],
      "metadata": {
        "id": "dWvUFFtbweAY"
      }
    },
    {
      "cell_type": "markdown",
      "source": [
        "Motivação"
      ],
      "metadata": {
        "id": "R0ytB8WsxCC3"
      }
    },
    {
      "cell_type": "code",
      "source": [
        "# Empresa 1\n",
        "lat = '-22.005320'\n",
        "lon = '-47.891040'\n",
        "\n",
        "# Empresa 2\n",
        "latlon = '-22.005320;-47.891040'"
      ],
      "metadata": {
        "id": "yidO_bvkwhLv"
      },
      "execution_count": null,
      "outputs": []
    },
    {
      "cell_type": "markdown",
      "source": [
        "Jogo da Forca"
      ],
      "metadata": {
        "id": "5f5mk8aGGgsb"
      }
    },
    {
      "cell_type": "code",
      "source": [
        "import random\n",
        "from google.colab import output\n",
        "def get_random_word():\n",
        "  words = [\"programação\", \"banana\", \"cachorro\", \"professor\", \"disputa\", \"carro\", \"careca\", \"lua\", \"python\", \"codigo\"]\n",
        "  return random.choice(words)\n",
        "\n",
        "def play_game():\n",
        "  word = get_random_word()\n",
        "  guessed = [\"_\"]*len(word)\n",
        "  guessed_letters = []\n",
        "  guessed_words = []\n",
        "  tries = 6\n",
        "\n",
        "  while tries > 0 and \"_\" in guessed:\n",
        "    print(f\"\\nVocê tem {tries} tentativas restantes.\")\n",
        "    print(f\"Você acertou as seguintes letras: {' '.join(guessed_letters)}\")\n",
        "    print(f\"Você já chutou as seguintes palavras: {' '.join(guessed_words) }\")\n",
        "    print(f\"Palavra: {' '.join(guessed)}\")\n",
        "    print(\"\\nAdivinhe a letra ou uma palavra: \")\n",
        "\n",
        "    guess = input().lower()\n",
        "    output.clear()\n",
        "\n",
        "    if(not guess.isdigit() and guess.isalpha()):\n",
        "      if guess in guessed_letters or guess in guessed_words:\n",
        "        print(\"\\nVocê já fez esse chute! 🧠❌\")\n",
        "      elif len(guess) == 1 and guess in word:\n",
        "        guessed_letters.append(guess)\n",
        "        for i in range(len(word)):\n",
        "          if(guess == word[i]):\n",
        "            guessed[i] = guess\n",
        "      elif len(guess) > 1 and guess.isalpha() and guess not in guessed_words:\n",
        "        guessed_words.append(guess)\n",
        "        if(guess == word):\n",
        "          #guessed é um array de caracteres, a função list transformará \"word\" também em um array de caracteres, assim temos 2 arrays de caracteres\n",
        "          #sendo comparados\n",
        "          guessed = list(word)\n",
        "        else:\n",
        "            tries -= 1\n",
        "      else:\n",
        "        tries -= 1\n",
        "    else:\n",
        "      print(\"Você é burro🧠🐵\")\n",
        "\n",
        "  if tries == 0:\n",
        "    print(f\"\\nSuas tentativas acabaram! A palavra era: {word}\")\n",
        "  elif(\"_\" not in guessed):\n",
        "    print(f\"Parabéns, você acertou🥳! A palavra era: {word}\")\n",
        "\n",
        "def start_new_game():\n",
        "  print(f\"\\n{('='*27)}\")\n",
        "  print(\"Bem vindo ao jogo da forca!\")\n",
        "  print(\"=\"*27)\n",
        "  play_game()\n",
        "\n",
        "  while input(\"\\nQuer jogar novamente? (sim/não): \").lower() in [\"sim\", \"ss\", \"s\"]:\n",
        "    play_game()\n",
        "\n",
        "start_new_game()"
      ],
      "metadata": {
        "id": "v_5LCkOS3pGg"
      },
      "execution_count": null,
      "outputs": []
    },
    {
      "cell_type": "markdown",
      "source": [
        "Class list"
      ],
      "metadata": {
        "id": "49UhEI1LQhbw"
      }
    },
    {
      "cell_type": "code",
      "source": [
        "idade = 20\n",
        "saldo_em_conta = 723.15\n",
        "usuario_loggedin = True\n",
        "\n",
        "usuario_web = ['André Perez', idade, 'andré.perez', 'andre123', 'andreperez@gmail.com', saldo_em_conta, usuario_loggedin]\n",
        "\n",
        "print(usuario_web)\n",
        "print(usuario_web[5])\n",
        "print(type(usuario_web))"
      ],
      "metadata": {
        "id": "pJf4hk3nQlLH"
      },
      "execution_count": null,
      "outputs": []
    },
    {
      "cell_type": "markdown",
      "source": [
        "Diferença entre list(Lista) e set(Conjunto)"
      ],
      "metadata": {
        "id": "ZWqqAkByPAWv"
      }
    },
    {
      "cell_type": "code",
      "source": [
        "frutas1 = ['banana', 'maca', 'uva', 'uva'] #As operações da estrutura do tipo list são: +(soma)\n",
        "frutas = {'banana', 'maca', 'uva', 'uva'} #As operações da estrutura do tipo set são: -(diferença) - ele não repete a mesma palavra\n",
        "\n",
        "print(frutas1)\n",
        "print(type(frutas1))\n",
        "\n",
        "print(frutas)\n",
        "print(type(frutas))"
      ],
      "metadata": {
        "id": "glOX8of6PF3F"
      },
      "execution_count": null,
      "outputs": []
    },
    {
      "cell_type": "markdown",
      "source": [
        "Países da europa."
      ],
      "metadata": {
        "id": "eC6oBuPrQole"
      }
    },
    {
      "cell_type": "code",
      "source": [
        "norte_europa = {'reino unido', 'suecia', 'russia', 'noruega', 'dinamarca'}\n",
        "escandinavia = {'noruega', 'dinamarca', 'suecia'}\n",
        "\n",
        "norte_europa_nao_escadivano =  norte_europa - escandinavia\n",
        "print(norte_europa_nao_escadivano)"
      ],
      "metadata": {
        "id": "kOhZXuYVQseN"
      },
      "execution_count": null,
      "outputs": []
    },
    {
      "cell_type": "markdown",
      "source": [
        "Conjuntos"
      ],
      "metadata": {
        "id": "YP_dfgohUi-n"
      }
    },
    {
      "cell_type": "code",
      "source": [
        "cursos = {'Exatas', 'Humanas', 'astronomia', 'Biológicas'}\n",
        "print(cursos)\n",
        "\n",
        "#inserir um elemento no conjunto: set.add(val)\n",
        "cursos.add('Saúde')\n",
        "print(cursos)\n",
        "\n",
        "# remove um elemento no conjunto: set.remove(val)\n",
        "cursos.remove('Saúde')\n",
        "print(cursos)"
      ],
      "metadata": {
        "id": "WmuJ0HdrUjam"
      },
      "execution_count": null,
      "outputs": []
    },
    {
      "cell_type": "markdown",
      "source": [
        "Conversão - Podemos coverter conjuntos para lista e vice e versa."
      ],
      "metadata": {
        "id": "rcnRRZAuVv7g"
      }
    },
    {
      "cell_type": "code",
      "source": [
        "times_paulista ={'São Paulo', 'Palmeiras', 'Santos', 'Corinthians'}\n",
        "\n",
        "#print(list(times_paulista))\n",
        "lista_times = list(times_paulista)\n",
        "print(lista_times)\n",
        "#print(type(list(times_paulista)))"
      ],
      "metadata": {
        "id": "Id6RvYAMV3ie"
      },
      "execution_count": null,
      "outputs": []
    },
    {
      "cell_type": "markdown",
      "source": [
        "Armazenam sequências no formato chave-valor.São do tipo dict."
      ],
      "metadata": {
        "id": "-B2oe1TOWsM3"
      }
    },
    {
      "cell_type": "code",
      "source": [
        "brasil = {'capital': 'Brasília', 'idioma': 'Português', 'população': 210}\n",
        "\n",
        "print(brasil)\n",
        "print(type(brasil))"
      ],
      "metadata": {
        "id": "LTz8f9tiWutV"
      },
      "execution_count": null,
      "outputs": []
    },
    {
      "cell_type": "markdown",
      "source": [
        "Não permite chaves duplicadas."
      ],
      "metadata": {
        "id": "v9547Rb6X8Kg"
      }
    },
    {
      "cell_type": "code",
      "source": [
        "carro = {\n",
        "    'marca': 'Volkswagen',\n",
        "    'modelo': 'Golf',\n",
        "    'ano': 2021,\n",
        "    'ano': 2004\n",
        "}\n",
        "\n",
        "print(carro)"
      ],
      "metadata": {
        "colab": {
          "base_uri": "https://localhost:8080/"
        },
        "id": "5-ftE6tBYA3H",
        "outputId": "54b15931-ab81-438f-ba00-ebd660ea707d"
      },
      "execution_count": null,
      "outputs": [
        {
          "output_type": "stream",
          "name": "stdout",
          "text": [
            "{'marca': 'Volkswagen', 'modelo': 'Golf', 'ano': 2004}\n"
          ]
        }
      ]
    },
    {
      "cell_type": "markdown",
      "source": [
        "Podemos criar dicionários compostos:"
      ],
      "metadata": {
        "id": "agIcAyuUYb5A"
      }
    },
    {
      "cell_type": "code",
      "source": [
        "cadastro = {\n",
        "    'andre':{\n",
        "        'nome': 'Andre Perez',\n",
        "        'ano_nascimento': 1992,\n",
        "        'pais': {\n",
        "            'pai':{\n",
        "                'nome': '<nome-do-pai> Perez',\n",
        "                'ano_nascimento': 1971\n",
        "            },\n",
        "            'mae': {\n",
        "                'nome': '<nome-da-mae> Perez',\n",
        "                'ano_nascimento': 1973\n",
        "            }\n",
        "        }\n",
        "    }\n",
        "}\n",
        "\n",
        "print(cadastro)"
      ],
      "metadata": {
        "colab": {
          "base_uri": "https://localhost:8080/"
        },
        "id": "pyCL8rkSYh5_",
        "outputId": "d08b6e45-5871-4e19-90b7-a674f374e2c7"
      },
      "execution_count": null,
      "outputs": [
        {
          "output_type": "stream",
          "name": "stdout",
          "text": [
            "{'andre': {'nome': 'Andre Perez', 'ano_nascimento': 1992, 'pais': {'pai': {'nome': '<nome-do-pai> Perez', 'ano_nascimento': 1971}, 'mae': {'nome': '<nome-da-mae> Perez', 'ano_nascimento': 1973}}}}\n"
          ]
        }
      ]
    },
    {
      "cell_type": "markdown",
      "source": [
        "Elementos são acessados pela sua chave."
      ],
      "metadata": {
        "id": "ZyKtt8yIeoDI"
      }
    },
    {
      "cell_type": "code",
      "source": [
        "credito = {'123': 750, '789': 980}\n",
        "\n",
        "score_123 = credito['123']\n",
        "score_789 = credito['789']\n",
        "\n",
        "print(score_123)\n",
        "print(score_789)"
      ],
      "metadata": {
        "colab": {
          "base_uri": "https://localhost:8080/"
        },
        "id": "3gQrhsyyevR2",
        "outputId": "37152441-21e3-45af-fdc7-eec9c30af250"
      },
      "execution_count": null,
      "outputs": [
        {
          "output_type": "stream",
          "name": "stdout",
          "text": [
            "750\n",
            "980\n"
          ]
        }
      ]
    },
    {
      "cell_type": "markdown",
      "source": [
        "Elementos são atualizados pela sua chave."
      ],
      "metadata": {
        "id": "cL1YZF26fXAI"
      }
    },
    {
      "cell_type": "code",
      "source": [
        "credito['123'] = 435\n",
        "print(credito)"
      ],
      "metadata": {
        "id": "OQ3UPDGHfbWQ"
      },
      "execution_count": null,
      "outputs": []
    },
    {
      "cell_type": "markdown",
      "source": [
        "Para adicionar um novo elemento, basta criar um novo elemento chave-valor:"
      ],
      "metadata": {
        "id": "iFwgfYWYfom7"
      }
    },
    {
      "cell_type": "code",
      "source": [
        "credito['456'] = 1000\n",
        "print(credito)"
      ],
      "metadata": {
        "id": "NvDJ7tNQfxD_"
      },
      "execution_count": null,
      "outputs": []
    },
    {
      "cell_type": "markdown",
      "source": [
        "São métodos nativos dp python que nos ajudam a trabalhar no dia com o dicionário"
      ],
      "metadata": {
        "id": "Tgz2fWDMgJ3Z"
      }
    },
    {
      "cell_type": "code",
      "source": [
        "artigo = dict(\n",
        "    titulo = 'Modilo 2 | Python: Estrutura de Dados',\n",
        "    corpo = 'Topicos, Aulas, Listas, Conjuntos, Dicionários, ...',\n",
        "    total_caracteres = 1530\n",
        ")\n",
        "\n",
        "print(artigo)\n",
        "print(artigo['titulo'] + \"\\n\" + artigo['corpo'])"
      ],
      "metadata": {
        "colab": {
          "base_uri": "https://localhost:8080/"
        },
        "id": "t0-KV1vwgUPw",
        "outputId": "c69811ee-752a-4a8e-d689-f6f62eaf74bb"
      },
      "execution_count": null,
      "outputs": [
        {
          "output_type": "stream",
          "name": "stdout",
          "text": [
            "{'titulo': 'Modilo 2 | Python: Estrutura de Dados', 'corpo': 'Topicos, Aulas, Listas, Conjuntos, Dicionários, ...', 'total_caracteres': 1530}\n",
            "Modilo 2 | Python: Estrutura de Dados\n",
            "Topicos, Aulas, Listas, Conjuntos, Dicionários, ...\n"
          ]
        }
      ]
    },
    {
      "cell_type": "code",
      "source": [
        "# adcionar/atualizar um elemento pelo chave-valor: dict.update(dict)\n",
        "print(artigo)\n",
        "artigo.update({'total_caracteres': 1270})\n",
        "print(artigo)\n",
        "\n",
        "artigo['total_caracteres'] = 7850\n",
        "print(artigo)"
      ],
      "metadata": {
        "colab": {
          "base_uri": "https://localhost:8080/"
        },
        "id": "nEit1zPTo3mC",
        "outputId": "4be80896-9157-495d-fdf6-f4ab06f81da5"
      },
      "execution_count": null,
      "outputs": [
        {
          "output_type": "stream",
          "name": "stdout",
          "text": [
            "{'titulo': 'Modilo 2 | Python: Estrutura de Dados', 'corpo': 'Topicos, Aulas, Listas, Conjuntos, Dicionários, ...'}\n",
            "{'titulo': 'Modilo 2 | Python: Estrutura de Dados', 'corpo': 'Topicos, Aulas, Listas, Conjuntos, Dicionários, ...', 'total_caracteres': 1270}\n",
            "{'titulo': 'Modilo 2 | Python: Estrutura de Dados', 'corpo': 'Topicos, Aulas, Listas, Conjuntos, Dicionários, ...', 'total_caracteres': 7850}\n"
          ]
        }
      ]
    },
    {
      "cell_type": "code",
      "source": [
        "#remover um elemento pelo chave: dict.pop(key)\n",
        "print(artigo)\n",
        "total_caracteres = artigo.pop('total_caracteres')\n",
        "print(artigo)"
      ],
      "metadata": {
        "id": "D5W_Wp7xqhsq"
      },
      "execution_count": null,
      "outputs": []
    },
    {
      "cell_type": "markdown",
      "source": [
        "Conversão - Podemos coverter dicionário para lista e vice e versa."
      ],
      "metadata": {
        "id": "A4DYmz2Zq8Xp"
      }
    },
    {
      "cell_type": "code",
      "source": [
        "chaves = list(artigo.keys())\n",
        "\n",
        "print(chaves)\n",
        "print(type(chaves))"
      ],
      "metadata": {
        "id": "zUbQYsQvq6vS"
      },
      "execution_count": null,
      "outputs": []
    },
    {
      "cell_type": "code",
      "source": [
        "valores = list(artigo.values())\n",
        "\n",
        "print(valores)\n",
        "print(type(valores))"
      ],
      "metadata": {
        "id": "BD1mFNC1s1zS"
      },
      "execution_count": null,
      "outputs": []
    },
    {
      "cell_type": "code",
      "source": [
        "wifi_disponiveis = []"
      ],
      "metadata": {
        "id": "n__HrNqttB5z"
      },
      "execution_count": null,
      "outputs": []
    },
    {
      "cell_type": "code",
      "source": [
        "rede = {'nome': 'rede1', 'senha': 'cnx_cnx'}\n",
        "wifi_disponiveis.append(rede)"
      ],
      "metadata": {
        "id": "p1S73Q25tG8i"
      },
      "execution_count": null,
      "outputs": []
    },
    {
      "cell_type": "code",
      "source": [
        "rede = {'nome': 'uai-fi', 'senha': 'r3d3'}\n",
        "wifi_disponiveis.append(rede)"
      ],
      "metadata": {
        "id": "rQrRG4totbC7"
      },
      "execution_count": null,
      "outputs": []
    },
    {
      "cell_type": "code",
      "source": [
        "print(wifi_disponiveis)"
      ],
      "metadata": {
        "id": "GbwR3mGLtm0q"
      },
      "execution_count": null,
      "outputs": []
    },
    {
      "cell_type": "markdown",
      "source": [
        "if / else"
      ],
      "metadata": {
        "id": "xEniyPGNy2AL"
      }
    },
    {
      "cell_type": "markdown",
      "source": [
        "Estrutura de alteração de fluxo lógico do código, avalia um valor booleano ou uma\n",
        "\n",
        "if <booleano / comparação lógica> == True:\n",
        "  <execute este código>\n",
        "\n",
        "else:\n",
        "  <senão execute este código>"
      ],
      "metadata": {
        "id": "iFKNpOeZy5xp"
      }
    },
    {
      "cell_type": "code",
      "source": [
        "if False:\n",
        "  print(\"Verdadeiro\")\n",
        "else:\n",
        "  print(\"Falso\")"
      ],
      "metadata": {
        "id": "VDBqlkyszPhQ"
      },
      "execution_count": null,
      "outputs": []
    },
    {
      "cell_type": "markdown",
      "source": [
        "**Exemplo**: Código de seguraça de um cartão de crédito"
      ],
      "metadata": {
        "id": "NKm7sE9f0LiR"
      }
    },
    {
      "cell_type": "code",
      "source": [
        "codigo_de_seguranca = '291'\n",
        "codigo_de_seguranca_cadastro = '010'\n",
        "\n",
        "#cod_a = '291'\n",
        "#cod_b = '010'\n",
        "\n",
        "#print(cod_a == cod_b)\n",
        "\n",
        "pode_efetuar_pagamento = codigo_de_seguranca == codigo_de_seguranca_cadastro\n",
        "print(pode_efetuar_pagamento)"
      ],
      "metadata": {
        "id": "srQB-LNs0K_C"
      },
      "execution_count": null,
      "outputs": []
    },
    {
      "cell_type": "code",
      "source": [
        "if pode_efetuar_pagamento:\n",
        "  print(\"Pagamento efetuado\")\n",
        "else:\n",
        "  print(\"Erro: Código de segurança inválido\")"
      ],
      "metadata": {
        "id": "pKHbiS_51rzR"
      },
      "execution_count": null,
      "outputs": []
    },
    {
      "cell_type": "code",
      "source": [
        "if codigo_de_seguranca == codigo_de_seguranca_cadastro:\n",
        "  print(\"Pagamento efetuado\")\n",
        "else:\n",
        "  print(\"Erro: Código de segurança inválido\")"
      ],
      "metadata": {
        "id": "RUOEVFbS2Jq_"
      },
      "execution_count": null,
      "outputs": []
    },
    {
      "cell_type": "markdown",
      "source": [
        "**Exemplo**: Código de seguraça de um cartão de crédito"
      ],
      "metadata": {
        "id": "1vsjh5zD2sDe"
      }
    },
    {
      "cell_type": "code",
      "source": [
        "codigo_de_seguranca = '852'\n",
        "codigo_de_seguranca_cadastro = '852'\n",
        "\n",
        "senha = '7783'\n",
        "senha_cadatro = '7793'"
      ],
      "metadata": {
        "id": "HyItvEOK2xJI"
      },
      "execution_count": null,
      "outputs": []
    },
    {
      "cell_type": "code",
      "source": [
        "if (codigo_de_seguranca != codigo_de_seguranca_cadastro) | (senha != senha_cadatro):\n",
        "  #False                             True\n",
        "  print(\"Erro: Pagamento não efetuano\")\n",
        "else:\n",
        "  print(\"Pagamento efetuado\")"
      ],
      "metadata": {
        "id": "7URCnIFz3WE4"
      },
      "execution_count": null,
      "outputs": []
    },
    {
      "cell_type": "markdown",
      "source": [
        "if / elif / else"
      ],
      "metadata": {
        "id": "kOb6DPo66pnt"
      }
    },
    {
      "cell_type": "markdown",
      "source": [
        "Podemos também avaliar múltipla condições.\n",
        "\n",
        "if <1º booleano / 1ª comparação lógica> == True:\n",
        "  <execute este código se a primeira condição for verdadeira>\n",
        "elif <2º booleano / 2ª comparação lógica> == True:\n",
        "  <execute este código se a segunda condição for verdadeira>\n",
        "else:\n",
        "  <senão execute este código>"
      ],
      "metadata": {
        "id": "BVlvN4BH6sw2"
      }
    },
    {
      "cell_type": "code",
      "source": [
        "codigo_de_seguranca = '802'\n",
        "codigo_de_seguranca_cadastro = '852'\n",
        "\n",
        "senha = '7783'\n",
        "senha_cadatro = '7783'"
      ],
      "metadata": {
        "id": "-VfU77d662ge"
      },
      "execution_count": null,
      "outputs": []
    },
    {
      "cell_type": "code",
      "source": [
        "if (codigo_de_seguranca == codigo_de_seguranca_cadastro) & (senha == senha):\n",
        "  print(\"Pagamento efetuado\")\n",
        "elif (codigo_de_seguranca != codigo_de_seguranca_cadastro) & (senha == senha):"
      ],
      "metadata": {
        "id": "-7-NS26M73fd"
      },
      "execution_count": null,
      "outputs": []
    },
    {
      "cell_type": "markdown",
      "source": [],
      "metadata": {
        "id": "9QxjUaM576I0"
      }
    },
    {
      "cell_type": "code",
      "source": [
        "preco = 132.85\n",
        "pessoas = 0\n",
        "\n",
        "try:\n",
        "  valor_por_pessoa = preco / pessoas\n",
        "  print(valor_por_pessoa)\n",
        "except ZeroDivisionError:\n",
        "  print('Número de pessoas inválido. ' + 'Espera-se um valor maior que 0 ' +\n",
        "        'e obteve-se um valor igual a ' + str(pessoas))\n"
      ],
      "metadata": {
        "id": "eHXM6soQ75hN"
      },
      "execution_count": null,
      "outputs": []
    },
    {
      "cell_type": "code",
      "source": [
        "anos = [2019, 2020, 2021, 2022, 2023]\n",
        "\n",
        "try:\n",
        "  ano_atual = anos[3]\n",
        "  print(ano_atual)\n",
        "except Exception:\n",
        "  print('Lista de anos é manor que o valor escolhido.'+\n",
        "        ' Espera-se um valor entre 0 e ' +\n",
        "        str(len(anos) - 1))"
      ],
      "metadata": {
        "id": "LT-V8Xpv_Mk_"
      },
      "execution_count": null,
      "outputs": []
    },
    {
      "cell_type": "code",
      "source": [
        "anos = [2019, 2020, 2021]\n",
        "\n",
        "try:\n",
        "  ano_atual = anos[3]\n",
        "  print(ano_atual)\n",
        "except Exception as exc:\n",
        "  print('Descrição da excepção: ' + str(exc))\n",
        "  print('Tipo da exceção: ' + str(type(exc)))\n",
        "  print('Lista de anos é manor que o valor escolhido.'+\n",
        "        ' Espera-se um valor entre 0 e ')"
      ],
      "metadata": {
        "id": "rLGaN6pQBS4i"
      },
      "execution_count": null,
      "outputs": []
    },
    {
      "cell_type": "code",
      "source": [
        "nome = 'Andre Perez'\n",
        "idade = 19\n",
        "\n",
        "try:\n",
        "    apresentacao = 'fala pessoal, meu nome é ' + nome + ' e eu tenho ' + idade + ' anos'\n",
        "    print(apresentacao)\n",
        "except TypeError:\n",
        "    idade = str(idade)\n",
        "finally:\n",
        "    print('Segunda chance')\n",
        "    apresentacao = 'fala pessoal, meu nome é ' + nome + ' e eu tenho ' + idade + ' anos'\n",
        "    print(apresentacao)"
      ],
      "metadata": {
        "id": "kidIXbFcPUvs"
      },
      "execution_count": null,
      "outputs": []
    }
  ]
}