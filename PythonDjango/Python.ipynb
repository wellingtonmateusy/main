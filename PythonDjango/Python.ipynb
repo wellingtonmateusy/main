{
  "cells": [
    {
      "cell_type": "markdown",
      "metadata": {
        "id": "VyZKaFGbPis0"
      },
      "source": [
        "# **Aulas**"
      ]
    },
    {
      "cell_type": "code",
      "execution_count": null,
      "metadata": {
        "id": "ElOrJOtXNhj-"
      },
      "outputs": [],
      "source": [
        "print(\"Hello World!!!\")"
      ]
    },
    {
      "cell_type": "markdown",
      "metadata": {
        "id": "_fkOHjhEUfUD"
      },
      "source": [
        "**Variáveis**"
      ]
    },
    {
      "cell_type": "code",
      "execution_count": null,
      "metadata": {
        "id": "Lo0tWng5Up5i"
      },
      "outputs": [],
      "source": [
        "idade = 30\n",
        "print(idade)\n",
        "\n",
        "idade = 27.12\n",
        "print(idade)\n",
        "\n",
        "nome = \"andré\"\n",
        "print(nome)"
      ]
    },
    {
      "cell_type": "markdown",
      "metadata": {
        "id": "HBN-jtWSVjZz"
      },
      "source": [
        "**Tipos nativos**"
      ]
    },
    {
      "cell_type": "markdown",
      "metadata": {
        "id": "5FNQJCjwWZd6"
      },
      "source": [
        "**Tipos numéricos: inteiro(int) real(float):**"
      ]
    },
    {
      "cell_type": "code",
      "execution_count": null,
      "metadata": {
        "id": "VCAlL8GnVIO7"
      },
      "outputs": [],
      "source": [
        "preco = 1000\n",
        "tipo_preco = type(preco)\n",
        "\n",
        "print(preco)\n",
        "print(tipo_preco)\n",
        "\n",
        "juros = 0.05\n",
        "tipo_juros = type(juros)\n",
        "\n",
        "print(juros)\n",
        "print(tipo_juros)\n"
      ]
    },
    {
      "cell_type": "markdown",
      "metadata": {
        "id": "GTow-Q31Wlla"
      },
      "source": [
        "**Tipos de texto: string (str):**"
      ]
    },
    {
      "cell_type": "code",
      "execution_count": null,
      "metadata": {
        "id": "BX3WPl3fWwIL"
      },
      "outputs": [],
      "source": [
        "primeiro_nome = \"Fulano\"\n",
        "\n",
        "print(primeiro_nome)\n",
        "print(type(primeiro_nome))\n",
        "\n",
        "pais = 'Brasil'\n",
        "\n",
        "print(pais)\n",
        "print(type(pais))"
      ]
    },
    {
      "cell_type": "markdown",
      "metadata": {
        "id": "h5RZbc6UYADr"
      },
      "source": [
        "**Tipos lógicos: booleanos(bool):**"
      ]
    },
    {
      "cell_type": "code",
      "execution_count": null,
      "metadata": {
        "id": "l1Px3a64YJAP"
      },
      "outputs": [],
      "source": [
        "usuario_maior_de_idade = True\n",
        "\n",
        "print(usuario_maior_de_idade)\n",
        "print(type(usuario_maior_de_idade))"
      ]
    },
    {
      "cell_type": "markdown",
      "metadata": {
        "id": "yIpxjF2gZ2Di"
      },
      "source": [
        "**Tipo vazio (NoneType):**"
      ]
    },
    {
      "cell_type": "code",
      "execution_count": null,
      "metadata": {
        "id": "254cm5j-Z-v6"
      },
      "outputs": [],
      "source": [
        "telefone_fixo = None\n",
        "\n",
        "print(telefone_fixo)\n",
        "print(type(telefone_fixo))"
      ]
    },
    {
      "cell_type": "markdown",
      "metadata": {
        "id": "YvYili3Kkj_e"
      },
      "source": [
        "Tipos"
      ]
    },
    {
      "cell_type": "code",
      "execution_count": null,
      "metadata": {
        "colab": {
          "base_uri": "https://localhost:8080/"
        },
        "id": "z_x1jhijkXTg",
        "outputId": "489cb268-41f2-474d-ee42-c0dc04597587"
      },
      "outputs": [],
      "source": [
        "print(type(10))\n",
        "print(type(10.1))\n",
        "print(type(1 + 2j))"
      ]
    },
    {
      "cell_type": "markdown",
      "metadata": {
        "id": "VQqwk_l5oX4C"
      },
      "source": [
        "**Exemplos**"
      ]
    },
    {
      "cell_type": "code",
      "execution_count": null,
      "metadata": {
        "id": "EzzTpd_Ym_jA"
      },
      "outputs": [],
      "source": [
        "preco = 47\n",
        "quantidade = 0.250\n",
        "\n",
        "total_a_pagar = quantidade * preco\n",
        "print(total_a_pagar)"
      ]
    },
    {
      "cell_type": "code",
      "execution_count": null,
      "metadata": {
        "id": "GK4dUab1nzA4"
      },
      "outputs": [],
      "source": [
        "a = 3\n",
        "b = 2\n",
        "\n",
        "c = a / b\n",
        "print(c)\n",
        "print(type(c))\n",
        "\n",
        "d = a // b\n",
        "print(d)\n",
        "print(type(d))"
      ]
    },
    {
      "cell_type": "markdown",
      "metadata": {
        "id": "ENNDydZlorCo"
      },
      "source": [
        "**Coversão**"
      ]
    },
    {
      "cell_type": "markdown",
      "metadata": {
        "id": "hjQJXvXmpehI"
      },
      "source": [
        "Podemos coverter os tipos numéricus entre si utilizando o método nativo int, float e complex:"
      ]
    },
    {
      "cell_type": "code",
      "execution_count": null,
      "metadata": {
        "id": "OxTf-gfzotjf"
      },
      "outputs": [],
      "source": [
        "print(int(3.9))"
      ]
    },
    {
      "cell_type": "code",
      "execution_count": null,
      "metadata": {
        "id": "iMZ_fh9Toxw_"
      },
      "outputs": [],
      "source": [
        "print(float(10))"
      ]
    },
    {
      "cell_type": "code",
      "execution_count": null,
      "metadata": {
        "id": "BZCnTtTyo23f"
      },
      "outputs": [],
      "source": [
        "print(complex(1))"
      ]
    },
    {
      "cell_type": "markdown",
      "metadata": {
        "id": "zWRZgfhPqDYh"
      },
      "source": [
        "**Revistando a motivação**"
      ]
    },
    {
      "cell_type": "markdown",
      "metadata": {
        "id": "XNSlL8haqbun"
      },
      "source": [
        "Ticket médio diário do dia 19/01."
      ]
    },
    {
      "cell_type": "code",
      "execution_count": null,
      "metadata": {
        "id": "z5ObXr9fqJQX"
      },
      "outputs": [],
      "source": [
        "valorTotal_19 = 153.98\n",
        "qtdVendas_19 = 3\n",
        "tktMedio_19 = valorTotal_19 / qtdVendas_19\n",
        "print(tktMedio_19)"
      ]
    },
    {
      "cell_type": "markdown",
      "metadata": {
        "id": "GTqeRHGTt12A"
      },
      "source": [
        "Ticket médio diário do dia 20/01."
      ]
    },
    {
      "cell_type": "code",
      "execution_count": null,
      "metadata": {
        "id": "IqaU6PvNt2Yv"
      },
      "outputs": [],
      "source": [
        "valorTotal_20 = 337.01\n",
        "qtdVendas_20 = 7\n",
        "tktMedio_20 = valorTotal_20 / qtdVendas_20\n",
        "print(tktMedio_20)"
      ]
    },
    {
      "cell_type": "markdown",
      "metadata": {
        "id": "e9lQ6DTit7gX"
      },
      "source": [
        "Ticket médio diário do dia 23/01."
      ]
    },
    {
      "cell_type": "code",
      "execution_count": null,
      "metadata": {
        "id": "jCR4yhfbt5ev"
      },
      "outputs": [],
      "source": [
        "valorTotal_23 = 295.33\n",
        "qtdVendas_23 = 5\n",
        "tktMedio_23 = valorTotal_23 / qtdVendas_23\n",
        "print(tktMedio_23)"
      ]
    },
    {
      "cell_type": "markdown",
      "metadata": {
        "id": "-zo_PJKHuWEX"
      },
      "source": [
        "Ticket médio"
      ]
    },
    {
      "cell_type": "code",
      "execution_count": null,
      "metadata": {
        "id": "18QMVyveua41"
      },
      "outputs": [],
      "source": [
        "tkt = (tktMedio_19 + tktMedio_20 + tktMedio_23) / 3\n",
        "print(tkt)"
      ]
    },
    {
      "cell_type": "markdown",
      "metadata": {
        "id": "dWvUFFtbweAY"
      },
      "source": [
        "**Strings**"
      ]
    },
    {
      "cell_type": "markdown",
      "metadata": {
        "id": "R0ytB8WsxCC3"
      },
      "source": [
        "Motivação"
      ]
    },
    {
      "cell_type": "code",
      "execution_count": null,
      "metadata": {
        "id": "yidO_bvkwhLv"
      },
      "outputs": [],
      "source": [
        "# Empresa 1\n",
        "lat = '-22.005320'\n",
        "lon = '-47.891040'\n",
        "\n",
        "# Empresa 2\n",
        "latlon = '-22.005320;-47.891040'"
      ]
    },
    {
      "cell_type": "markdown",
      "metadata": {
        "id": "5f5mk8aGGgsb"
      },
      "source": [
        "Jogo da Forca"
      ]
    },
    {
      "cell_type": "code",
      "execution_count": null,
      "metadata": {
        "id": "v_5LCkOS3pGg"
      },
      "outputs": [],
      "source": [
        "import random\n",
        "from google.colab import output\n",
        "def get_random_word():\n",
        "  words = [\"programação\", \"banana\", \"cachorro\", \"professor\", \"disputa\", \"carro\", \"careca\", \"lua\", \"python\", \"codigo\"]\n",
        "  return random.choice(words)\n",
        "\n",
        "def play_game():\n",
        "  word = get_random_word()\n",
        "  guessed = [\"_\"]*len(word)\n",
        "  guessed_letters = []\n",
        "  guessed_words = []\n",
        "  tries = 6\n",
        "\n",
        "  while tries > 0 and \"_\" in guessed:\n",
        "    print(f\"\\nVocê tem {tries} tentativas restantes.\")\n",
        "    print(f\"Você acertou as seguintes letras: {' '.join(guessed_letters)}\")\n",
        "    print(f\"Você já chutou as seguintes palavras: {' '.join(guessed_words) }\")\n",
        "    print(f\"Palavra: {' '.join(guessed)}\")\n",
        "    print(\"\\nAdivinhe a letra ou uma palavra: \")\n",
        "\n",
        "    guess = input().lower()\n",
        "    output.clear()\n",
        "\n",
        "    if(not guess.isdigit() and guess.isalpha()):\n",
        "      if guess in guessed_letters or guess in guessed_words:\n",
        "        print(\"\\nVocê já fez esse chute! 🧠❌\")\n",
        "      elif len(guess) == 1 and guess in word:\n",
        "        guessed_letters.append(guess)\n",
        "        for i in range(len(word)):\n",
        "          if(guess == word[i]):\n",
        "            guessed[i] = guess\n",
        "      elif len(guess) > 1 and guess.isalpha() and guess not in guessed_words:\n",
        "        guessed_words.append(guess)\n",
        "        if(guess == word):\n",
        "          #guessed é um array de caracteres, a função list transformará \"word\" também em um array de caracteres, assim temos 2 arrays de caracteres\n",
        "          #sendo comparados\n",
        "          guessed = list(word)\n",
        "        else:\n",
        "            tries -= 1\n",
        "      else:\n",
        "        tries -= 1\n",
        "    else:\n",
        "      print(\"Você é burro🧠🐵\")\n",
        "\n",
        "  if tries == 0:\n",
        "    print(f\"\\nSuas tentativas acabaram! A palavra era: {word}\")\n",
        "  elif(\"_\" not in guessed):\n",
        "    print(f\"Parabéns, você acertou🥳! A palavra era: {word}\")\n",
        "\n",
        "def start_new_game():\n",
        "  print(f\"\\n{('='*27)}\")\n",
        "  print(\"Bem vindo ao jogo da forca!\")\n",
        "  print(\"=\"*27)\n",
        "  play_game()\n",
        "\n",
        "  while input(\"\\nQuer jogar novamente? (sim/não): \").lower() in [\"sim\", \"ss\", \"s\"]:\n",
        "    play_game()\n",
        "\n",
        "start_new_game()"
      ]
    },
    {
      "cell_type": "markdown",
      "metadata": {
        "id": "49UhEI1LQhbw"
      },
      "source": [
        "Class list"
      ]
    },
    {
      "cell_type": "code",
      "execution_count": null,
      "metadata": {
        "id": "pJf4hk3nQlLH"
      },
      "outputs": [],
      "source": [
        "idade = 20\n",
        "saldo_em_conta = 723.15\n",
        "usuario_loggedin = True\n",
        "\n",
        "usuario_web = ['André Perez', idade, 'andré.perez', 'andre123', 'andreperez@gmail.com', saldo_em_conta, usuario_loggedin]\n",
        "\n",
        "print(usuario_web)\n",
        "print(usuario_web[5])\n",
        "print(type(usuario_web))"
      ]
    },
    {
      "cell_type": "markdown",
      "metadata": {
        "id": "ZWqqAkByPAWv"
      },
      "source": [
        "Diferença entre list(Lista) e set(Conjunto)"
      ]
    },
    {
      "cell_type": "code",
      "execution_count": null,
      "metadata": {
        "id": "glOX8of6PF3F"
      },
      "outputs": [],
      "source": [
        "frutas1 = ['banana', 'maca', 'uva', 'uva'] #As operações da estrutura do tipo list são: +(soma)\n",
        "frutas = {'banana', 'maca', 'uva', 'uva'} #As operações da estrutura do tipo set são: -(diferença) - ele não repete a mesma palavra\n",
        "\n",
        "print(frutas1)\n",
        "print(type(frutas1))\n",
        "\n",
        "print(frutas)\n",
        "print(type(frutas))"
      ]
    },
    {
      "cell_type": "markdown",
      "metadata": {
        "id": "eC6oBuPrQole"
      },
      "source": [
        "Países da europa."
      ]
    },
    {
      "cell_type": "code",
      "execution_count": null,
      "metadata": {
        "id": "kOhZXuYVQseN"
      },
      "outputs": [],
      "source": [
        "norte_europa = {'reino unido', 'suecia', 'russia', 'noruega', 'dinamarca'}\n",
        "escandinavia = {'noruega', 'dinamarca', 'suecia'}\n",
        "\n",
        "norte_europa_nao_escadivano =  norte_europa - escandinavia\n",
        "print(norte_europa_nao_escadivano)"
      ]
    },
    {
      "cell_type": "markdown",
      "metadata": {
        "id": "YP_dfgohUi-n"
      },
      "source": [
        "Conjuntos"
      ]
    },
    {
      "cell_type": "code",
      "execution_count": null,
      "metadata": {
        "id": "WmuJ0HdrUjam"
      },
      "outputs": [],
      "source": [
        "cursos = {'Exatas', 'Humanas', 'astronomia', 'Biológicas'}\n",
        "print(cursos)\n",
        "\n",
        "#inserir um elemento no conjunto: set.add(val)\n",
        "cursos.add('Saúde')\n",
        "print(cursos)\n",
        "\n",
        "# remove um elemento no conjunto: set.remove(val)\n",
        "cursos.remove('Saúde')\n",
        "print(cursos)"
      ]
    },
    {
      "cell_type": "markdown",
      "metadata": {
        "id": "rcnRRZAuVv7g"
      },
      "source": [
        "Conversão - Podemos coverter conjuntos para lista e vice e versa."
      ]
    },
    {
      "cell_type": "code",
      "execution_count": null,
      "metadata": {
        "id": "Id6RvYAMV3ie"
      },
      "outputs": [],
      "source": [
        "times_paulista ={'São Paulo', 'Palmeiras', 'Santos', 'Corinthians'}\n",
        "\n",
        "#print(list(times_paulista))\n",
        "lista_times = list(times_paulista)\n",
        "print(lista_times)\n",
        "#print(type(list(times_paulista)))"
      ]
    },
    {
      "cell_type": "markdown",
      "metadata": {
        "id": "-B2oe1TOWsM3"
      },
      "source": [
        "Armazenam sequências no formato chave-valor.São do tipo dict."
      ]
    },
    {
      "cell_type": "code",
      "execution_count": null,
      "metadata": {
        "id": "LTz8f9tiWutV"
      },
      "outputs": [],
      "source": [
        "brasil = {'capital': 'Brasília', 'idioma': 'Português', 'população': 210}\n",
        "\n",
        "print(brasil)\n",
        "print(type(brasil))"
      ]
    },
    {
      "cell_type": "markdown",
      "metadata": {
        "id": "v9547Rb6X8Kg"
      },
      "source": [
        "Não permite chaves duplicadas."
      ]
    },
    {
      "cell_type": "code",
      "execution_count": null,
      "metadata": {
        "colab": {
          "base_uri": "https://localhost:8080/"
        },
        "id": "5-ftE6tBYA3H",
        "outputId": "54b15931-ab81-438f-ba00-ebd660ea707d"
      },
      "outputs": [],
      "source": [
        "carro = {\n",
        "    'marca': 'Volkswagen',\n",
        "    'modelo': 'Golf',\n",
        "    'ano': 2021,\n",
        "    'ano': 2004\n",
        "}\n",
        "\n",
        "print(carro)"
      ]
    },
    {
      "cell_type": "markdown",
      "metadata": {
        "id": "agIcAyuUYb5A"
      },
      "source": [
        "Podemos criar dicionários compostos:"
      ]
    },
    {
      "cell_type": "code",
      "execution_count": null,
      "metadata": {
        "colab": {
          "base_uri": "https://localhost:8080/"
        },
        "id": "pyCL8rkSYh5_",
        "outputId": "d08b6e45-5871-4e19-90b7-a674f374e2c7"
      },
      "outputs": [],
      "source": [
        "cadastro = {\n",
        "    'andre':{\n",
        "        'nome': 'Andre Perez',\n",
        "        'ano_nascimento': 1992,\n",
        "        'pais': {\n",
        "            'pai':{\n",
        "                'nome': '<nome-do-pai> Perez',\n",
        "                'ano_nascimento': 1971\n",
        "            },\n",
        "            'mae': {\n",
        "                'nome': '<nome-da-mae> Perez',\n",
        "                'ano_nascimento': 1973\n",
        "            }\n",
        "        }\n",
        "    }\n",
        "}\n",
        "\n",
        "print(cadastro)"
      ]
    },
    {
      "cell_type": "markdown",
      "metadata": {
        "id": "ZyKtt8yIeoDI"
      },
      "source": [
        "Elementos são acessados pela sua chave."
      ]
    },
    {
      "cell_type": "code",
      "execution_count": null,
      "metadata": {
        "colab": {
          "base_uri": "https://localhost:8080/"
        },
        "id": "3gQrhsyyevR2",
        "outputId": "37152441-21e3-45af-fdc7-eec9c30af250"
      },
      "outputs": [],
      "source": [
        "credito = {'123': 750, '789': 980}\n",
        "\n",
        "score_123 = credito['123']\n",
        "score_789 = credito['789']\n",
        "\n",
        "print(score_123)\n",
        "print(score_789)"
      ]
    },
    {
      "cell_type": "markdown",
      "metadata": {
        "id": "cL1YZF26fXAI"
      },
      "source": [
        "Elementos são atualizados pela sua chave."
      ]
    },
    {
      "cell_type": "code",
      "execution_count": null,
      "metadata": {
        "id": "OQ3UPDGHfbWQ"
      },
      "outputs": [],
      "source": [
        "credito['123'] = 435\n",
        "print(credito)"
      ]
    },
    {
      "cell_type": "markdown",
      "metadata": {
        "id": "iFwgfYWYfom7"
      },
      "source": [
        "Para adicionar um novo elemento, basta criar um novo elemento chave-valor:"
      ]
    },
    {
      "cell_type": "code",
      "execution_count": null,
      "metadata": {
        "id": "NvDJ7tNQfxD_"
      },
      "outputs": [],
      "source": [
        "credito['456'] = 1000\n",
        "print(credito)"
      ]
    },
    {
      "cell_type": "markdown",
      "metadata": {
        "id": "Tgz2fWDMgJ3Z"
      },
      "source": [
        "São métodos nativos dp python que nos ajudam a trabalhar no dia com o dicionário"
      ]
    },
    {
      "cell_type": "code",
      "execution_count": null,
      "metadata": {
        "colab": {
          "base_uri": "https://localhost:8080/"
        },
        "id": "t0-KV1vwgUPw",
        "outputId": "c69811ee-752a-4a8e-d689-f6f62eaf74bb"
      },
      "outputs": [],
      "source": [
        "artigo = dict(\n",
        "    titulo = 'Modilo 2 | Python: Estrutura de Dados',\n",
        "    corpo = 'Topicos, Aulas, Listas, Conjuntos, Dicionários, ...',\n",
        "    total_caracteres = 1530\n",
        ")\n",
        "\n",
        "print(artigo)\n",
        "print(artigo['titulo'] + \"\\n\" + artigo['corpo'])"
      ]
    },
    {
      "cell_type": "code",
      "execution_count": null,
      "metadata": {
        "colab": {
          "base_uri": "https://localhost:8080/"
        },
        "id": "nEit1zPTo3mC",
        "outputId": "4be80896-9157-495d-fdf6-f4ab06f81da5"
      },
      "outputs": [],
      "source": [
        "# adcionar/atualizar um elemento pelo chave-valor: dict.update(dict)\n",
        "print(artigo)\n",
        "artigo.update({'total_caracteres': 1270})\n",
        "print(artigo)\n",
        "\n",
        "artigo['total_caracteres'] = 7850\n",
        "print(artigo)"
      ]
    },
    {
      "cell_type": "code",
      "execution_count": null,
      "metadata": {
        "id": "D5W_Wp7xqhsq"
      },
      "outputs": [],
      "source": [
        "#remover um elemento pelo chave: dict.pop(key)\n",
        "print(artigo)\n",
        "total_caracteres = artigo.pop('total_caracteres')\n",
        "print(artigo)"
      ]
    },
    {
      "cell_type": "markdown",
      "metadata": {
        "id": "A4DYmz2Zq8Xp"
      },
      "source": [
        "Conversão - Podemos coverter dicionário para lista e vice e versa."
      ]
    },
    {
      "cell_type": "code",
      "execution_count": null,
      "metadata": {
        "id": "zUbQYsQvq6vS"
      },
      "outputs": [],
      "source": [
        "chaves = list(artigo.keys())\n",
        "\n",
        "print(chaves)\n",
        "print(type(chaves))"
      ]
    },
    {
      "cell_type": "code",
      "execution_count": null,
      "metadata": {
        "id": "BD1mFNC1s1zS"
      },
      "outputs": [],
      "source": [
        "valores = list(artigo.values())\n",
        "\n",
        "print(valores)\n",
        "print(type(valores))"
      ]
    },
    {
      "cell_type": "code",
      "execution_count": null,
      "metadata": {
        "id": "n__HrNqttB5z"
      },
      "outputs": [],
      "source": [
        "wifi_disponiveis = []"
      ]
    },
    {
      "cell_type": "code",
      "execution_count": null,
      "metadata": {
        "id": "p1S73Q25tG8i"
      },
      "outputs": [],
      "source": [
        "rede = {'nome': 'rede1', 'senha': 'cnx_cnx'}\n",
        "wifi_disponiveis.append(rede)"
      ]
    },
    {
      "cell_type": "code",
      "execution_count": null,
      "metadata": {
        "id": "rQrRG4totbC7"
      },
      "outputs": [],
      "source": [
        "rede = {'nome': 'uai-fi', 'senha': 'r3d3'}\n",
        "wifi_disponiveis.append(rede)"
      ]
    },
    {
      "cell_type": "code",
      "execution_count": null,
      "metadata": {
        "id": "GbwR3mGLtm0q"
      },
      "outputs": [],
      "source": [
        "print(wifi_disponiveis)"
      ]
    },
    {
      "cell_type": "markdown",
      "metadata": {
        "id": "xEniyPGNy2AL"
      },
      "source": [
        "if / else"
      ]
    },
    {
      "cell_type": "markdown",
      "metadata": {
        "id": "iFKNpOeZy5xp"
      },
      "source": [
        "Estrutura de alteração de fluxo lógico do código, avalia um valor booleano ou uma\n",
        "\n",
        "if <booleano / comparação lógica> == True:\n",
        "  <execute este código>\n",
        "\n",
        "else:\n",
        "  <senão execute este código>"
      ]
    },
    {
      "cell_type": "code",
      "execution_count": null,
      "metadata": {
        "id": "VDBqlkyszPhQ"
      },
      "outputs": [],
      "source": [
        "if False:\n",
        "  print(\"Verdadeiro\")\n",
        "else:\n",
        "  print(\"Falso\")"
      ]
    },
    {
      "cell_type": "markdown",
      "metadata": {
        "id": "NKm7sE9f0LiR"
      },
      "source": [
        "**Exemplo**: Código de seguraça de um cartão de crédito"
      ]
    },
    {
      "cell_type": "code",
      "execution_count": null,
      "metadata": {
        "id": "srQB-LNs0K_C"
      },
      "outputs": [],
      "source": [
        "codigo_de_seguranca = '291'\n",
        "codigo_de_seguranca_cadastro = '010'\n",
        "\n",
        "#cod_a = '291'\n",
        "#cod_b = '010'\n",
        "\n",
        "#print(cod_a == cod_b)\n",
        "\n",
        "pode_efetuar_pagamento = codigo_de_seguranca == codigo_de_seguranca_cadastro\n",
        "print(pode_efetuar_pagamento)"
      ]
    },
    {
      "cell_type": "code",
      "execution_count": null,
      "metadata": {
        "id": "pKHbiS_51rzR"
      },
      "outputs": [],
      "source": [
        "if pode_efetuar_pagamento:\n",
        "  print(\"Pagamento efetuado\")\n",
        "else:\n",
        "  print(\"Erro: Código de segurança inválido\")"
      ]
    },
    {
      "cell_type": "code",
      "execution_count": null,
      "metadata": {
        "id": "RUOEVFbS2Jq_"
      },
      "outputs": [],
      "source": [
        "if codigo_de_seguranca == codigo_de_seguranca_cadastro:\n",
        "  print(\"Pagamento efetuado\")\n",
        "else:\n",
        "  print(\"Erro: Código de segurança inválido\")"
      ]
    },
    {
      "cell_type": "markdown",
      "metadata": {
        "id": "1vsjh5zD2sDe"
      },
      "source": [
        "**Exemplo**: Código de seguraça de um cartão de crédito"
      ]
    },
    {
      "cell_type": "code",
      "execution_count": null,
      "metadata": {
        "id": "HyItvEOK2xJI"
      },
      "outputs": [],
      "source": [
        "codigo_de_seguranca = '852'\n",
        "codigo_de_seguranca_cadastro = '852'\n",
        "\n",
        "senha = '7783'\n",
        "senha_cadatro = '7793'"
      ]
    },
    {
      "cell_type": "code",
      "execution_count": null,
      "metadata": {
        "id": "7URCnIFz3WE4"
      },
      "outputs": [],
      "source": [
        "if (codigo_de_seguranca != codigo_de_seguranca_cadastro) | (senha != senha_cadatro):\n",
        "  #False                             True\n",
        "  print(\"Erro: Pagamento não efetuado\")\n",
        "else:\n",
        "  print(\"Pagamento efetuado\")"
      ]
    },
    {
      "cell_type": "markdown",
      "metadata": {
        "id": "kOb6DPo66pnt"
      },
      "source": [
        "if / elif / else"
      ]
    },
    {
      "cell_type": "markdown",
      "metadata": {
        "id": "BVlvN4BH6sw2"
      },
      "source": [
        "Podemos também avaliar múltipla condições.\n",
        "\n",
        "if <1º booleano / 1ª comparação lógica> == True:\n",
        "  <execute este código se a primeira condição for verdadeira>\n",
        "elif <2º booleano / 2ª comparação lógica> == True:\n",
        "  <execute este código se a segunda condição for verdadeira>\n",
        "else:\n",
        "  <senão execute este código>"
      ]
    },
    {
      "cell_type": "code",
      "execution_count": null,
      "metadata": {
        "id": "-VfU77d662ge"
      },
      "outputs": [],
      "source": [
        "codigo_de_seguranca = '802'\n",
        "codigo_de_seguranca_cadastro = '852'\n",
        "\n",
        "senha = '7783'\n",
        "senha_cadatro = '7783'"
      ]
    },
    {
      "cell_type": "code",
      "execution_count": null,
      "metadata": {
        "id": "-7-NS26M73fd"
      },
      "outputs": [],
      "source": [
        "if (codigo_de_seguranca == codigo_de_seguranca_cadastro) & (senha == senha):\n",
        "  print(\"Pagamento efetuado\")\n",
        "elif (codigo_de_seguranca != codigo_de_seguranca_cadastro) & (senha == senha):"
      ]
    },
    {
      "cell_type": "markdown",
      "metadata": {
        "id": "9QxjUaM576I0"
      },
      "source": []
    },
    {
      "cell_type": "code",
      "execution_count": null,
      "metadata": {
        "id": "eHXM6soQ75hN"
      },
      "outputs": [],
      "source": [
        "preco = 132.85\n",
        "pessoas = 0\n",
        "\n",
        "try:\n",
        "  valor_por_pessoa = preco / pessoas\n",
        "  print(valor_por_pessoa)\n",
        "except ZeroDivisionError:\n",
        "  print('Número de pessoas inválido. ' + 'Espera-se um valor maior que 0 ' +\n",
        "        'e obteve-se um valor igual a ' + str(pessoas))\n"
      ]
    },
    {
      "cell_type": "code",
      "execution_count": null,
      "metadata": {
        "id": "LT-V8Xpv_Mk_"
      },
      "outputs": [],
      "source": [
        "anos = [2019, 2020, 2021, 2022, 2023]\n",
        "\n",
        "try:\n",
        "  ano_atual = anos[3]\n",
        "  print(ano_atual)\n",
        "except Exception:\n",
        "  print('Lista de anos é manor que o valor escolhido.'+\n",
        "        ' Espera-se um valor entre 0 e ' +\n",
        "        str(len(anos) - 1))"
      ]
    },
    {
      "cell_type": "code",
      "execution_count": null,
      "metadata": {
        "id": "rLGaN6pQBS4i"
      },
      "outputs": [],
      "source": [
        "anos = [2019, 2020, 2021]\n",
        "\n",
        "try:\n",
        "  ano_atual = anos[3]\n",
        "  print(ano_atual)\n",
        "except Exception as exc:\n",
        "  print('Descrição da excepção: ' + str(exc))\n",
        "  print('Tipo da excepção: ' + str(type(exc)))\n",
        "  print('Lista de anos é menor que o valor escolhido.'+\n",
        "        ' Espera-se um valor de 0 até 2')"
      ]
    },
    {
      "cell_type": "markdown",
      "metadata": {},
      "source": [
        "try / except / finally"
      ]
    },
    {
      "cell_type": "code",
      "execution_count": null,
      "metadata": {
        "id": "kidIXbFcPUvs"
      },
      "outputs": [],
      "source": [
        "nome = 'Andre Perez'\n",
        "idade = 19\n",
        "\n",
        "try:\n",
        "    apresentacao = 'fala pessoal, meu nome é ' + nome + ' e eu tenho ' + idade + ' anos'\n",
        "    print(apresentacao)\n",
        "except TypeError:\n",
        "    idade = str(idade)\n",
        "finally:\n",
        "    print('Segunda chance')\n",
        "    apresentacao = 'fala pessoal, meu nome é ' + nome + ' e eu tenho ' + idade + ' anos'\n",
        "    print(apresentacao)"
      ]
    },
    {
      "cell_type": "markdown",
      "metadata": {},
      "source": [
        "Estrutura repetição for / in\n",
        "\n",
        "for / in\n",
        "\n",
        "Estrutura que permite a execução repetida de um bloco de código repetidas vezes.\n",
        "\n",
        "for variavel_temporario in coleção:\n",
        "    <execute este código>"
      ]
    },
    {
      "cell_type": "markdown",
      "metadata": {},
      "source": [
        "for / in / range\n",
        "\n",
        "Estrutura que permite a execução repetida de um bloco de código n vezes."
      ]
    },
    {
      "cell_type": "code",
      "execution_count": null,
      "metadata": {},
      "outputs": [],
      "source": [
        "for valor in range (6):\n",
        "    print(valor)"
      ]
    },
    {
      "cell_type": "code",
      "execution_count": null,
      "metadata": {},
      "outputs": [],
      "source": [
        "lista = [2, 4, 6, 8]\n",
        "\n",
        "for val in lista: print(val)"
      ]
    },
    {
      "cell_type": "code",
      "execution_count": null,
      "metadata": {},
      "outputs": [],
      "source": [
        "soma = 0\n",
        "\n",
        "for valor in range(999, 100000):\n",
        "    soma = soma + valor\n",
        "    #print(soma)\n",
        "\n",
        "print(soma)"
      ]
    },
    {
      "cell_type": "code",
      "execution_count": null,
      "metadata": {},
      "outputs": [],
      "source": [
        "for multiplo_dois in range(2, 20, 2):\n",
        "    print(multiplo_dois)"
      ]
    },
    {
      "cell_type": "markdown",
      "metadata": {},
      "source": [
        "for / in / list"
      ]
    },
    {
      "cell_type": "code",
      "execution_count": null,
      "metadata": {},
      "outputs": [],
      "source": [
        "frutas = ['maca', 'banana', 'laranja', 'uva', 'pera']\n",
        "\n",
        "for fruta in frutas:\n",
        "    print(fruta)"
      ]
    },
    {
      "cell_type": "code",
      "execution_count": null,
      "metadata": {},
      "outputs": [],
      "source": [
        "frase = 'Fala pessoal, meu é André Perez.'\n",
        "\n",
        "for caracter in frase.upper():\n",
        "    if (caracter == 'A') | (caracter == 'z'):\n",
        "        print(f\"A letra '{caracter}' está presente na frase.\")\n",
        "        \n",
        "print(frase.upper())"
      ]
    },
    {
      "cell_type": "markdown",
      "metadata": {},
      "source": [
        "for / in / dict"
      ]
    },
    {
      "cell_type": "code",
      "execution_count": null,
      "metadata": {},
      "outputs": [],
      "source": [
        "credito = {'123': 750, '456': 812, '789': 980}"
      ]
    },
    {
      "cell_type": "code",
      "execution_count": null,
      "metadata": {},
      "outputs": [],
      "source": [
        "for chave, valor in credito.items():\n",
        "    print(f'Para o documento {chave}, o valor do escore de crédito é {valor}.')"
      ]
    },
    {
      "cell_type": "code",
      "execution_count": null,
      "metadata": {},
      "outputs": [],
      "source": [
        "for chave in credito.keys():\n",
        "    print(chave)\n",
        "    print(credito[chave])\n",
        "    print(f'Para o documento {chave}, o valor do escore de crédito é {credito[chave]}.')"
      ]
    },
    {
      "cell_type": "code",
      "execution_count": null,
      "metadata": {},
      "outputs": [],
      "source": [
        "for valor in credito.values():\n",
        "    print(valor)\n",
        "    print(f'O valor do escore de crédito é {valor}, mas não temos mais as chaves')"
      ]
    },
    {
      "cell_type": "markdown",
      "metadata": {},
      "source": [
        "break / continue"
      ]
    },
    {
      "cell_type": "code",
      "execution_count": null,
      "metadata": {},
      "outputs": [],
      "source": [
        "for i in range(0, 10*10*10*10*10*10):\n",
        "    print(i)\n",
        "    if i == 10:\n",
        "        print('Encontrei o 10!')\n",
        "        break"
      ]
    },
    {
      "cell_type": "code",
      "execution_count": null,
      "metadata": {},
      "outputs": [],
      "source": [
        "numero = 3\n",
        "\n",
        "if numero % 2 == 0:\n",
        "    print(f'O numero {numero} é par')\n",
        "else:\n",
        "    print(f'O numero {numero} é impar')"
      ]
    },
    {
      "cell_type": "code",
      "execution_count": null,
      "metadata": {},
      "outputs": [],
      "source": [
        "numeros = [361, 553, 194, 13, 510, 33, 135]\n",
        "\n",
        "for numero in numeros:\n",
        "\n",
        "    if numero % 2 == 0:\n",
        "        print(f'O numero {numero} é par')\n",
        "        break\n",
        "    else:\n",
        "        print(f'O numero {numero} é impar')"
      ]
    },
    {
      "cell_type": "code",
      "execution_count": null,
      "metadata": {},
      "outputs": [],
      "source": [
        "numeros = [361, 553, 194, 13, 510, 33, 135]\n",
        "\n",
        "for numero in numeros:\n",
        "\n",
        "    if numero % 2 == 0:\n",
        "        print(f'O numero {numero} é par')\n",
        "        break\n",
        "    else:\n",
        "        continue\n",
        "        print(f'O numero {numero} é impar')"
      ]
    },
    {
      "cell_type": "code",
      "execution_count": null,
      "metadata": {},
      "outputs": [],
      "source": [
        "for letra in 'Jessica':\n",
        "    if letra == 'i':\n",
        "        continue\n",
        "    print(letra)"
      ]
    },
    {
      "cell_type": "code",
      "execution_count": null,
      "metadata": {},
      "outputs": [],
      "source": [
        "num = 0\n",
        "\n",
        "while num < 100:\n",
        "    num += 10\n",
        "    if num == 60:\n",
        "        continue\n",
        "    print(f'Número atual: {num}')"
      ]
    },
    {
      "cell_type": "markdown",
      "metadata": {},
      "source": [
        "Função - Function"
      ]
    },
    {
      "cell_type": "code",
      "execution_count": null,
      "metadata": {},
      "outputs": [],
      "source": [
        "valor_inicial, taxa_juros_anual, anos = 1000.00, 0.05, 10\n",
        "\n",
        "valor_final = valor_inicial\n",
        "for ano in range(1, anos+1):\n",
        "    valor_final = valor_final * (1 + taxa_juros_anual)\n",
        "valor_final = round(valor_final, 2)\n",
        "print(f'Para um valor inicial de R$ {valor_inicial} e uma taxa de {taxa_juros_anual}')\n",
        "\n",
        "valor_inicial, taxa_juros_anual, anos = 1020.00, 0.03, 10\n",
        "\n",
        "valor_final = valor_inicial\n",
        "for ano in range(1, anos+1):\n",
        "    valor_final = valor_final * (1 + taxa_juros_anual)\n",
        "valor_final = round(valor_final, 2)\n",
        "print(f'Para um valor inicial de R$ {valor_inicial} e uma taxa de {taxa_juros_anual}')"
      ]
    },
    {
      "cell_type": "markdown",
      "metadata": {},
      "source": [
        "Definição"
      ]
    },
    {
      "cell_type": "markdown",
      "metadata": {},
      "source": [
        "def <nome>(<param 1>, <param 2>, ...):\n",
        "    bloco de código\n",
        "    return <valor de retorno>\n",
        "\n",
        "var = <nome da função>(<param 1>, <param 2>, ...)"
      ]
    },
    {
      "cell_type": "code",
      "execution_count": null,
      "metadata": {},
      "outputs": [],
      "source": [
        "def imprime(mensagem: str):\n",
        "    print(mensagem)"
      ]
    },
    {
      "cell_type": "code",
      "execution_count": null,
      "metadata": {},
      "outputs": [],
      "source": [
        "texto = 'Fala pessoal, meu nome é Fulano Fuleiro!'"
      ]
    },
    {
      "cell_type": "code",
      "execution_count": null,
      "metadata": {},
      "outputs": [],
      "source": [
        "imprime(texto)"
      ]
    },
    {
      "cell_type": "markdown",
      "metadata": {},
      "source": [
        "Return"
      ]
    },
    {
      "cell_type": "code",
      "execution_count": null,
      "metadata": {},
      "outputs": [],
      "source": [
        "def maiusculo(texto: str) -> str:\n",
        "    text_maiusculo = texto.upper()\n",
        "    return text_maiusculo"
      ]
    },
    {
      "cell_type": "code",
      "execution_count": null,
      "metadata": {},
      "outputs": [],
      "source": [
        "nome = 'André Perez'\n",
        "print(nome)\n",
        "\n",
        "nome_maiusculo = maiusculo(nome)\n",
        "print(nome_maiusculo)\n",
        "\n",
        "#print(maiusculo(nome))"
      ]
    },
    {
      "cell_type": "code",
      "execution_count": null,
      "metadata": {},
      "outputs": [],
      "source": [
        "def extrair_usuario_email_provedor(email: str) -> (str, str):\n",
        "    email_separado = email.split(sep='@')\n",
        "    usuario = email_separado[0]\n",
        "    provedor = email_separado[1]\n",
        "    return usuario, provedor"
      ]
    },
    {
      "cell_type": "code",
      "execution_count": null,
      "metadata": {},
      "outputs": [],
      "source": [
        "email = 'andre.perez@gmail.com'\n",
        "usuario, provedor = extrair_usuario_email_provedor(email=email)\n",
        "print(usuario)\n",
        "print(provedor)"
      ]
    },
    {
      "cell_type": "markdown",
      "metadata": {},
      "source": [
        "Parâmetros\n",
        "\n",
        "Parâmentros são valores que a passamos na chamada da função."
      ]
    },
    {
      "cell_type": "markdown",
      "metadata": {},
      "source": [
        "Função sem parâmetro:"
      ]
    },
    {
      "cell_type": "code",
      "execution_count": null,
      "metadata": {},
      "outputs": [],
      "source": [
        "def pi() -> float:\n",
        "    return 3.14159265359"
      ]
    },
    {
      "cell_type": "code",
      "execution_count": null,
      "metadata": {},
      "outputs": [],
      "source": [
        "pi = pi()\n",
        "print(pi)"
      ]
    },
    {
      "cell_type": "code",
      "execution_count": null,
      "metadata": {},
      "outputs": [],
      "source": [
        "def imprime_pi() -> None:\n",
        "    print(3.14159265359)\n",
        "    return None"
      ]
    },
    {
      "cell_type": "code",
      "execution_count": null,
      "metadata": {},
      "outputs": [],
      "source": [
        "nulo = imprime_pi()\n",
        "print(type(nulo))\n",
        "print(f'-> {nulo}')"
      ]
    },
    {
      "cell_type": "code",
      "execution_count": null,
      "metadata": {},
      "outputs": [],
      "source": [
        "def juros_compostos_anual(valor_inicial: float, taxa_juros_anual: float, anos: int) -> float:\n",
        "    valor_final = valor_inicial\n",
        "    for ano in range(1, anos+1):\n",
        "        valor_final = valor_final * (1 + taxa_juros_anual)\n",
        "    valor_final = round(valor_final, 2)\n",
        "    print(f'Para um valor inicial de R$ {valor_inicial} e uma taxa de juros anual de {taxa_juros_anual}, em {anos} anos você terá R$ {valor_final}') \n",
        "    return valor_final\n",
        "\n",
        "valor_inicial, taxa_juros_anual, anos = 1000.00, 0.05, 10\n",
        "valor_final = juros_compostos_anual(valor_inicial=valor_inicial, taxa_juros_anual=taxa_juros_anual, anos=anos)\n",
        "\n",
        "valor_inicial, taxa_juros_anual, anos = 1020.00, 0.03, 10\n",
        "valor_final = juros_compostos_anual(valor_inicial=valor_inicial, taxa_juros_anual=taxa_juros_anual, anos=anos) "
      ]
    },
    {
      "cell_type": "markdown",
      "metadata": {},
      "source": [
        "Escopo\n",
        "\n",
        "Define o ciclo de vida de uma variável."
      ]
    },
    {
      "cell_type": "markdown",
      "metadata": {},
      "source": [
        "Escopo de Função."
      ]
    },
    {
      "cell_type": "code",
      "execution_count": null,
      "metadata": {},
      "outputs": [],
      "source": [
        "def soma_lista(numeros: list) -> int:\n",
        "    s = 0\n",
        "    for numero in numeros:\n",
        "        s = s + numero\n",
        "    return s"
      ]
    },
    {
      "cell_type": "code",
      "execution_count": null,
      "metadata": {},
      "outputs": [],
      "source": [
        "numeros = [(3 * 20), (4 * 20), (5 * 20)]\n",
        "numeros=[3, 4, 5] * 20\n",
        "\n",
        "soma = soma_lista(numeros)\n",
        "print(soma)"
      ]
    },
    {
      "cell_type": "code",
      "execution_count": null,
      "metadata": {},
      "outputs": [],
      "source": [
        "#------------ INÍCIO FUNCÕES ------------\n",
        "\n",
        "def recebeNome () -> str:\n",
        "    return input('Informe o seu nome:').upper()\n",
        "\n",
        "def imprimeNomes(listaNomes: list):\n",
        "    for nome in listaNomes:\n",
        "        print(f'Nome {listaNomes.index(nome) + 1}: {nome}')\n",
        "\n",
        "#------------ FIM FUNCÕES ------------\n",
        "\n",
        "\n",
        "#------------ INÍCIO APLICAÇÃO ------------\n",
        "listaNomes = []\n",
        "\n",
        "while True:\n",
        "    nome = recebeNome()\n",
        "    if nome != 'S':\n",
        "        listaNomes.append(nome)\n",
        "        print(f'Olá {nome}')\n",
        "    else:\n",
        "        print('Aplicação encerrada!')\n",
        "        break\n",
        "\n",
        "imprimeNomes(listaNomes)"
      ]
    },
    {
      "cell_type": "markdown",
      "metadata": {},
      "source": [
        "Criar o Arquivo"
      ]
    },
    {
      "cell_type": "code",
      "execution_count": null,
      "metadata": {},
      "outputs": [],
      "source": [
        "%%writefile Banco.csv\n",
        "age;job;marital;education;default;balance;housing;loan\n",
        "30;unemployed;married;primary;no;1787;no;no\n",
        "33;services;married;secondary;no;4789;yes;yes\n",
        "35;management;single;tertiary;no;1350;yes;no\n",
        "30;management;married;tertiary;no;1476;yes;yes\n",
        "59;blue-collar;married;secondary;no;0;yes;no\n",
        "35;management;single;tertiary;no;747;no;no\n",
        "36;self-employed;married;tertiary;no;307;yes;no\n",
        "39;technician;married;secondary;no;147;yes;no\n",
        "41;entrepreneur;married;tertiary;no;221;yes;no\n",
        "43;services;married;primary;no;-88;yes;yes"
      ]
    },
    {
      "cell_type": "markdown",
      "metadata": {},
      "source": [
        "with / open\n",
        "\n",
        "comando para ler arquivos."
      ]
    },
    {
      "cell_type": "markdown",
      "metadata": {},
      "source": [
        "with open(file='<caminho do arquivo>', mode='<modo de leitura>, encoding='<decoficador>') as <apelido>:\n",
        "    bloco de código"
      ]
    },
    {
      "cell_type": "markdown",
      "metadata": {},
      "source": [
        "Read"
      ]
    },
    {
      "cell_type": "markdown",
      "metadata": {},
      "source": [
        "Comando para ler todo o conteúdo de um arquivo."
      ]
    },
    {
      "cell_type": "code",
      "execution_count": null,
      "metadata": {},
      "outputs": [],
      "source": [
        "conteudo = None\n",
        "\n",
        "with open(file='./Banco.csv', mode='r', encoding='utf8') as arquivo:\n",
        "    conteudo = arquivo.read()\n",
        "\n",
        "print(conteudo)"
      ]
    },
    {
      "cell_type": "markdown",
      "metadata": {},
      "source": [
        "Readline"
      ]
    },
    {
      "cell_type": "code",
      "execution_count": 21,
      "metadata": {},
      "outputs": [
        {
          "name": "stdout",
          "output_type": "stream",
          "text": [
            "age;job;marital;education;default;balance;housing;loan\n",
            "\n",
            "30;unemployed;married;primary;no;1787;no;no\n",
            "\n",
            "33;services;married;secondary;no;4789;yes;yes\n",
            "\n",
            "35;management;single;tertiary;no;1350;yes;no\n",
            "\n",
            "30;management;married;tertiary;no;1476;yes;yes\n",
            "\n",
            "59;blue-collar;married;secondary;no;0;yes;no\n",
            "\n",
            "35;management;single;tertiary;no;747;no;no\n",
            "\n",
            "36;self-employed;married;tertiary;no;307;yes;no\n",
            "\n",
            "39;technician;married;secondary;no;147;yes;no\n",
            "\n",
            "41;entrepreneur;married;tertiary;no;221;yes;no\n",
            "\n",
            "43;services;married;primary;no;-88;yes;yes\n",
            "\n"
          ]
        }
      ],
      "source": [
        "listaLinhas = []\n",
        "with open(file='./Banco.csv', mode='r', encoding='utf8') as arquivo:\n",
        "    linha = arquivo.readline()\n",
        "    \n",
        "    while linha: #Verfica se há conteúdo na var. linha.\n",
        "        listaLinhas.append(linha)\n",
        "        linha = arquivo.readline()\n",
        "    #print(listaLinhas)\n",
        "    # print(listaLinhas[4])\n",
        "    \n",
        "    for linha in listaLinhas:\n",
        "        print(linha)"
      ]
    },
    {
      "cell_type": "code",
      "execution_count": 31,
      "metadata": {},
      "outputs": [
        {
          "name": "stdout",
          "output_type": "stream",
          "text": [
            "[1787, 4789, 1350, 1476, 0, 747, 307, 147, 221, -88]\n"
          ]
        }
      ],
      "source": [
        "idades = []\n",
        "\n",
        "with open(file='./Banco.csv', mode='r', encoding='utf8') as arquivo:\n",
        "    linha = arquivo.readline()\n",
        "    linha = arquivo.readline()\n",
        "    \n",
        "    while linha:\n",
        "        linha_separada = linha.split(';')\n",
        "        idade = linha_separada[0]\n",
        "        idades.append(int(idade))\n",
        "        linha = arquivo.readline()\n",
        "print(idades)"
      ]
    },
    {
      "cell_type": "markdown",
      "metadata": {},
      "source": [
        "Write"
      ]
    },
    {
      "cell_type": "markdown",
      "metadata": {},
      "source": [
        "Modo de escrita (w)"
      ]
    },
    {
      "cell_type": "code",
      "execution_count": 23,
      "metadata": {},
      "outputs": [],
      "source": [
        "with open(file='./idades.csv', mode='w', encoding='utf8') as arquivo:\n",
        "    linha = 'idade' + '\\n'\n",
        "    arquivo.write(linha)\n",
        "    for idade in idades:\n",
        "        linha = str(idade) + '\\n'\n",
        "        arquivo.write(linha)"
      ]
    },
    {
      "cell_type": "markdown",
      "metadata": {},
      "source": [
        "Modo de acréscimo (a)."
      ]
    },
    {
      "cell_type": "code",
      "execution_count": 25,
      "metadata": {},
      "outputs": [],
      "source": [
        "with open(file='./idades.csv', mode='a', encoding='utf8') as arquivo:\n",
        "    for idade in idades:\n",
        "        linha = str(idade + 100) + '\\n'\n",
        "        arquivo.write(linha)"
      ]
    },
    {
      "cell_type": "code",
      "execution_count": 28,
      "metadata": {},
      "outputs": [
        {
          "name": "stdout",
          "output_type": "stream",
          "text": [
            "Writing banco-texto.txt\n"
          ]
        }
      ],
      "source": [
        "%%writefile banco-texto.txt\n",
        "age;job;marital;education;default;balance;housing;loan\n",
        "30;unemployed;married;primary;no;1787;no;no\n",
        "33;services;married;secondary;no;4789;yes;yes\n",
        "35;management;single;tertiary;no;1350;yes;no\n",
        "30;management;married;tertiary;no;1476;yes;yes\n",
        "59;blue-collar;married;secondary;no;0;yes;no\n",
        "35;management;single;tertiary;no;747;no;no\n",
        "36;self-employed;married;tertiary;no;307;yes;no\n",
        "39;technician;married;secondary;no;147;yes;no\n",
        "41;entrepreneur;married;tertiary;no;221;yes;no\n",
        "43;services;married;primary;no;-88;yes;yes"
      ]
    },
    {
      "cell_type": "code",
      "execution_count": 29,
      "metadata": {},
      "outputs": [],
      "source": [
        "with open(file='./banco-texto.txt', mode='r', encoding='utf8') as leitura:\n",
        "    with open(file='./banco-csv.csv', mode='w', encoding='utf8') as escrita:\n",
        "        linha = leitura.readline()\n",
        "        while linha:\n",
        "            escrita.write(linha)\n",
        "            linha = leitura.readline()"
      ]
    }
  ],
  "metadata": {
    "colab": {
      "provenance": []
    },
    "kernelspec": {
      "display_name": "Python 3",
      "name": "python3"
    },
    "language_info": {
      "codemirror_mode": {
        "name": "ipython",
        "version": 3
      },
      "file_extension": ".py",
      "mimetype": "text/x-python",
      "name": "python",
      "nbconvert_exporter": "python",
      "pygments_lexer": "ipython3",
      "version": "3.12.0"
    }
  },
  "nbformat": 4,
  "nbformat_minor": 0
}
